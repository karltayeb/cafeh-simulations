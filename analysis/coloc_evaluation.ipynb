{
 "cells": [
  {
   "cell_type": "code",
   "execution_count": 1,
   "metadata": {},
   "outputs": [],
   "source": [
    "import pickle\n",
    "import pandas as pd\n",
    "import numpy as np\n",
    "import matplotlib.pyplot as plt\n",
    "from copy import deepcopy\n",
    "import subprocess\n",
    "import seaborn as sns\n",
    "from sklearn.metrics import precision_recall_curve\n",
    "from prg import prg"
   ]
  },
  {
   "cell_type": "code",
   "execution_count": 2,
   "metadata": {},
   "outputs": [],
   "source": [
    "def get_target(col):\n",
    "    return col.split('.')[1].split(':')[0]\n",
    "\n",
    "def load_target(path, target):\n",
    "    try:\n",
    "        return pickle.load(open('{}/{}.pkl'.format(DSC_PATH, path), 'rb'))[target]\n",
    "    except Exception:\n",
    "        return []\n",
    "\n",
    "def aggregate_columns(df, keyword):\n",
    "    target_cols = df.columns[[keyword in c for c in df.columns]]\n",
    "    fp = pd.concat([df.loc[:, c].dropna() for c in target_cols])\n",
    "    df.loc[:, keyword] = fp\n",
    "    df.drop(np.delete(target_cols, np.where(target_cols == keyword)), axis=1, inplace=True)\n",
    "    return df\n",
    "\n",
    "def load_output_columns(df):\n",
    "    output_columns = df.columns[['output' in c for c in df.columns]]\n",
    "    targets = np.unique([get_target(oc) for oc in output_columns])\n",
    "    for t in targets:\n",
    "        aggregate_columns(df, '{}:output'.format(t))\n",
    "        df.loc[:, t] = df.loc[:, '{}:output'.format(t)].apply(lambda x: load_target(x, t))\n",
    "        df.drop('{}:output'.format(t), axis=1, inplace=True)\n",
    "    return df"
   ]
  },
  {
   "cell_type": "markdown",
   "metadata": {},
   "source": [
    "### Query DSC"
   ]
  },
  {
   "cell_type": "code",
   "execution_count": 3,
   "metadata": {},
   "outputs": [
    {
     "data": {
      "text/plain": [
       "CompletedProcess(args='dsc-query ../prototype2/ -t fit_cafeh.model fit_coloc.model fit_ecaviar.model score_coloc_coloc.p_coloc score_coloc_cafeh.p_coloc score_coloc_ecaviar.p_coloc single_sim.true_coloc single_sim.pve single_sim.n_study single_sim.n_causal_per_study -o coloc.xlsx', returncode=0)"
      ]
     },
     "execution_count": 3,
     "metadata": {},
     "output_type": "execute_result"
    }
   ],
   "source": [
    "DSC_PATH = '../output/cafeh-simulations'\n",
    "DSC_PATH = '../prototype2/'\n",
    "\n",
    "\n",
    "targets = [\n",
    "    'fit_cafeh.model', 'fit_coloc.model', 'fit_ecaviar.model',\n",
    "    'score_coloc_coloc.p_coloc',\n",
    "    'score_coloc_cafeh.p_coloc',\n",
    "    'score_coloc_ecaviar.p_coloc',\n",
    "    'single_sim.true_coloc',\n",
    "    'single_sim.pve', 'single_sim.n_study', 'single_sim.n_causal_per_study'\n",
    "]\n",
    "\n",
    "query_file = 'coloc.xlsx'\n",
    "\n",
    "cmd_args = [\n",
    "    'dsc-query', DSC_PATH,\n",
    "    '-t', ' '.join(targets),\n",
    "    '-o', query_file\n",
    "]\n",
    "\n",
    "subprocess.run('rm {}'.format(query_file), shell=True)\n",
    "subprocess.run(' '.join(cmd_args), shell=True)"
   ]
  },
  {
   "cell_type": "code",
   "execution_count": 4,
   "metadata": {},
   "outputs": [
    {
     "data": {
      "text/html": [
       "<div>\n",
       "<style scoped>\n",
       "    .dataframe tbody tr th:only-of-type {\n",
       "        vertical-align: middle;\n",
       "    }\n",
       "\n",
       "    .dataframe tbody tr th {\n",
       "        vertical-align: top;\n",
       "    }\n",
       "\n",
       "    .dataframe thead th {\n",
       "        text-align: right;\n",
       "    }\n",
       "</style>\n",
       "<table border=\"1\" class=\"dataframe\">\n",
       "  <thead>\n",
       "    <tr style=\"text-align: right;\">\n",
       "      <th></th>\n",
       "      <th>DSC</th>\n",
       "      <th>fit_cafeh</th>\n",
       "      <th>score_coloc_coloc.p_coloc:output</th>\n",
       "      <th>score_coloc_cafeh.p_coloc:output</th>\n",
       "      <th>score_coloc_ecaviar.p_coloc:output</th>\n",
       "      <th>single_sim.true_coloc:output</th>\n",
       "      <th>single_sim.pve</th>\n",
       "      <th>single_sim.n_study</th>\n",
       "      <th>single_sim.n_causal_per_study</th>\n",
       "      <th>model</th>\n",
       "    </tr>\n",
       "  </thead>\n",
       "  <tbody>\n",
       "    <tr>\n",
       "      <th>0</th>\n",
       "      <td>1</td>\n",
       "      <td>NaN</td>\n",
       "      <td>score_coloc_coloc/small_genotype_7_single_sim_...</td>\n",
       "      <td>NaN</td>\n",
       "      <td>NaN</td>\n",
       "      <td>single_sim/small_genotype_4_single_sim_2</td>\n",
       "      <td>0.1</td>\n",
       "      <td>5</td>\n",
       "      <td>3</td>\n",
       "      <td>coloc</td>\n",
       "    </tr>\n",
       "    <tr>\n",
       "      <th>1</th>\n",
       "      <td>2</td>\n",
       "      <td>NaN</td>\n",
       "      <td>score_coloc_coloc/small_genotype_8_single_sim_...</td>\n",
       "      <td>NaN</td>\n",
       "      <td>NaN</td>\n",
       "      <td>single_sim/small_genotype_5_single_sim_2</td>\n",
       "      <td>0.1</td>\n",
       "      <td>5</td>\n",
       "      <td>3</td>\n",
       "      <td>coloc</td>\n",
       "    </tr>\n",
       "    <tr>\n",
       "      <th>2</th>\n",
       "      <td>3</td>\n",
       "      <td>NaN</td>\n",
       "      <td>score_coloc_coloc/small_genotype_9_single_sim_...</td>\n",
       "      <td>NaN</td>\n",
       "      <td>NaN</td>\n",
       "      <td>single_sim/small_genotype_6_single_sim_2</td>\n",
       "      <td>0.1</td>\n",
       "      <td>5</td>\n",
       "      <td>3</td>\n",
       "      <td>coloc</td>\n",
       "    </tr>\n",
       "    <tr>\n",
       "      <th>3</th>\n",
       "      <td>1</td>\n",
       "      <td>NaN</td>\n",
       "      <td>NaN</td>\n",
       "      <td>NaN</td>\n",
       "      <td>score_coloc_ecaviar/small_genotype_1_single_si...</td>\n",
       "      <td>single_sim/small_genotype_4_single_sim_2</td>\n",
       "      <td>0.1</td>\n",
       "      <td>5</td>\n",
       "      <td>3</td>\n",
       "      <td>ecaviar</td>\n",
       "    </tr>\n",
       "    <tr>\n",
       "      <th>4</th>\n",
       "      <td>2</td>\n",
       "      <td>NaN</td>\n",
       "      <td>NaN</td>\n",
       "      <td>NaN</td>\n",
       "      <td>score_coloc_ecaviar/small_genotype_2_single_si...</td>\n",
       "      <td>single_sim/small_genotype_5_single_sim_2</td>\n",
       "      <td>0.1</td>\n",
       "      <td>5</td>\n",
       "      <td>3</td>\n",
       "      <td>ecaviar</td>\n",
       "    </tr>\n",
       "    <tr>\n",
       "      <th>5</th>\n",
       "      <td>3</td>\n",
       "      <td>NaN</td>\n",
       "      <td>NaN</td>\n",
       "      <td>NaN</td>\n",
       "      <td>score_coloc_ecaviar/small_genotype_3_single_si...</td>\n",
       "      <td>single_sim/small_genotype_6_single_sim_2</td>\n",
       "      <td>0.1</td>\n",
       "      <td>5</td>\n",
       "      <td>3</td>\n",
       "      <td>ecaviar</td>\n",
       "    </tr>\n",
       "    <tr>\n",
       "      <th>6</th>\n",
       "      <td>1</td>\n",
       "      <td>fit_cafeh_genotype</td>\n",
       "      <td>NaN</td>\n",
       "      <td>score_coloc_cafeh/small_genotype_7_single_sim_...</td>\n",
       "      <td>NaN</td>\n",
       "      <td>single_sim/small_genotype_4_single_sim_2</td>\n",
       "      <td>0.1</td>\n",
       "      <td>5</td>\n",
       "      <td>3</td>\n",
       "      <td>cafeh_genotype</td>\n",
       "    </tr>\n",
       "    <tr>\n",
       "      <th>7</th>\n",
       "      <td>2</td>\n",
       "      <td>fit_cafeh_genotype</td>\n",
       "      <td>NaN</td>\n",
       "      <td>score_coloc_cafeh/small_genotype_8_single_sim_...</td>\n",
       "      <td>NaN</td>\n",
       "      <td>single_sim/small_genotype_5_single_sim_2</td>\n",
       "      <td>0.1</td>\n",
       "      <td>5</td>\n",
       "      <td>3</td>\n",
       "      <td>cafeh_genotype</td>\n",
       "    </tr>\n",
       "    <tr>\n",
       "      <th>8</th>\n",
       "      <td>3</td>\n",
       "      <td>fit_cafeh_genotype</td>\n",
       "      <td>NaN</td>\n",
       "      <td>score_coloc_cafeh/small_genotype_9_single_sim_...</td>\n",
       "      <td>NaN</td>\n",
       "      <td>single_sim/small_genotype_6_single_sim_2</td>\n",
       "      <td>0.1</td>\n",
       "      <td>5</td>\n",
       "      <td>3</td>\n",
       "      <td>cafeh_genotype</td>\n",
       "    </tr>\n",
       "    <tr>\n",
       "      <th>9</th>\n",
       "      <td>1</td>\n",
       "      <td>fit_cafeh_summary</td>\n",
       "      <td>NaN</td>\n",
       "      <td>score_coloc_cafeh/small_genotype_7_single_sim_...</td>\n",
       "      <td>NaN</td>\n",
       "      <td>single_sim/small_genotype_4_single_sim_2</td>\n",
       "      <td>0.1</td>\n",
       "      <td>5</td>\n",
       "      <td>3</td>\n",
       "      <td>cafeh_summary</td>\n",
       "    </tr>\n",
       "    <tr>\n",
       "      <th>10</th>\n",
       "      <td>2</td>\n",
       "      <td>fit_cafeh_summary</td>\n",
       "      <td>NaN</td>\n",
       "      <td>score_coloc_cafeh/small_genotype_8_single_sim_...</td>\n",
       "      <td>NaN</td>\n",
       "      <td>single_sim/small_genotype_5_single_sim_2</td>\n",
       "      <td>0.1</td>\n",
       "      <td>5</td>\n",
       "      <td>3</td>\n",
       "      <td>cafeh_summary</td>\n",
       "    </tr>\n",
       "    <tr>\n",
       "      <th>11</th>\n",
       "      <td>3</td>\n",
       "      <td>fit_cafeh_summary</td>\n",
       "      <td>NaN</td>\n",
       "      <td>score_coloc_cafeh/small_genotype_9_single_sim_...</td>\n",
       "      <td>NaN</td>\n",
       "      <td>single_sim/small_genotype_6_single_sim_2</td>\n",
       "      <td>0.1</td>\n",
       "      <td>5</td>\n",
       "      <td>3</td>\n",
       "      <td>cafeh_summary</td>\n",
       "    </tr>\n",
       "    <tr>\n",
       "      <th>12</th>\n",
       "      <td>1</td>\n",
       "      <td>fit_cafeh_summary_simple</td>\n",
       "      <td>NaN</td>\n",
       "      <td>score_coloc_cafeh/small_genotype_1_single_sim_...</td>\n",
       "      <td>NaN</td>\n",
       "      <td>single_sim/small_genotype_4_single_sim_2</td>\n",
       "      <td>0.1</td>\n",
       "      <td>5</td>\n",
       "      <td>3</td>\n",
       "      <td>cafeh_summary</td>\n",
       "    </tr>\n",
       "    <tr>\n",
       "      <th>13</th>\n",
       "      <td>2</td>\n",
       "      <td>fit_cafeh_summary_simple</td>\n",
       "      <td>NaN</td>\n",
       "      <td>score_coloc_cafeh/small_genotype_2_single_sim_...</td>\n",
       "      <td>NaN</td>\n",
       "      <td>single_sim/small_genotype_5_single_sim_2</td>\n",
       "      <td>0.1</td>\n",
       "      <td>5</td>\n",
       "      <td>3</td>\n",
       "      <td>cafeh_summary</td>\n",
       "    </tr>\n",
       "    <tr>\n",
       "      <th>14</th>\n",
       "      <td>3</td>\n",
       "      <td>fit_cafeh_summary_simple</td>\n",
       "      <td>NaN</td>\n",
       "      <td>score_coloc_cafeh/small_genotype_3_single_sim_...</td>\n",
       "      <td>NaN</td>\n",
       "      <td>single_sim/small_genotype_6_single_sim_2</td>\n",
       "      <td>0.1</td>\n",
       "      <td>5</td>\n",
       "      <td>3</td>\n",
       "      <td>cafeh_summary</td>\n",
       "    </tr>\n",
       "  </tbody>\n",
       "</table>\n",
       "</div>"
      ],
      "text/plain": [
       "    DSC                 fit_cafeh  \\\n",
       "0     1                       NaN   \n",
       "1     2                       NaN   \n",
       "2     3                       NaN   \n",
       "3     1                       NaN   \n",
       "4     2                       NaN   \n",
       "5     3                       NaN   \n",
       "6     1        fit_cafeh_genotype   \n",
       "7     2        fit_cafeh_genotype   \n",
       "8     3        fit_cafeh_genotype   \n",
       "9     1         fit_cafeh_summary   \n",
       "10    2         fit_cafeh_summary   \n",
       "11    3         fit_cafeh_summary   \n",
       "12    1  fit_cafeh_summary_simple   \n",
       "13    2  fit_cafeh_summary_simple   \n",
       "14    3  fit_cafeh_summary_simple   \n",
       "\n",
       "                     score_coloc_coloc.p_coloc:output  \\\n",
       "0   score_coloc_coloc/small_genotype_7_single_sim_...   \n",
       "1   score_coloc_coloc/small_genotype_8_single_sim_...   \n",
       "2   score_coloc_coloc/small_genotype_9_single_sim_...   \n",
       "3                                                 NaN   \n",
       "4                                                 NaN   \n",
       "5                                                 NaN   \n",
       "6                                                 NaN   \n",
       "7                                                 NaN   \n",
       "8                                                 NaN   \n",
       "9                                                 NaN   \n",
       "10                                                NaN   \n",
       "11                                                NaN   \n",
       "12                                                NaN   \n",
       "13                                                NaN   \n",
       "14                                                NaN   \n",
       "\n",
       "                     score_coloc_cafeh.p_coloc:output  \\\n",
       "0                                                 NaN   \n",
       "1                                                 NaN   \n",
       "2                                                 NaN   \n",
       "3                                                 NaN   \n",
       "4                                                 NaN   \n",
       "5                                                 NaN   \n",
       "6   score_coloc_cafeh/small_genotype_7_single_sim_...   \n",
       "7   score_coloc_cafeh/small_genotype_8_single_sim_...   \n",
       "8   score_coloc_cafeh/small_genotype_9_single_sim_...   \n",
       "9   score_coloc_cafeh/small_genotype_7_single_sim_...   \n",
       "10  score_coloc_cafeh/small_genotype_8_single_sim_...   \n",
       "11  score_coloc_cafeh/small_genotype_9_single_sim_...   \n",
       "12  score_coloc_cafeh/small_genotype_1_single_sim_...   \n",
       "13  score_coloc_cafeh/small_genotype_2_single_sim_...   \n",
       "14  score_coloc_cafeh/small_genotype_3_single_sim_...   \n",
       "\n",
       "                   score_coloc_ecaviar.p_coloc:output  \\\n",
       "0                                                 NaN   \n",
       "1                                                 NaN   \n",
       "2                                                 NaN   \n",
       "3   score_coloc_ecaviar/small_genotype_1_single_si...   \n",
       "4   score_coloc_ecaviar/small_genotype_2_single_si...   \n",
       "5   score_coloc_ecaviar/small_genotype_3_single_si...   \n",
       "6                                                 NaN   \n",
       "7                                                 NaN   \n",
       "8                                                 NaN   \n",
       "9                                                 NaN   \n",
       "10                                                NaN   \n",
       "11                                                NaN   \n",
       "12                                                NaN   \n",
       "13                                                NaN   \n",
       "14                                                NaN   \n",
       "\n",
       "                single_sim.true_coloc:output  single_sim.pve  \\\n",
       "0   single_sim/small_genotype_4_single_sim_2             0.1   \n",
       "1   single_sim/small_genotype_5_single_sim_2             0.1   \n",
       "2   single_sim/small_genotype_6_single_sim_2             0.1   \n",
       "3   single_sim/small_genotype_4_single_sim_2             0.1   \n",
       "4   single_sim/small_genotype_5_single_sim_2             0.1   \n",
       "5   single_sim/small_genotype_6_single_sim_2             0.1   \n",
       "6   single_sim/small_genotype_4_single_sim_2             0.1   \n",
       "7   single_sim/small_genotype_5_single_sim_2             0.1   \n",
       "8   single_sim/small_genotype_6_single_sim_2             0.1   \n",
       "9   single_sim/small_genotype_4_single_sim_2             0.1   \n",
       "10  single_sim/small_genotype_5_single_sim_2             0.1   \n",
       "11  single_sim/small_genotype_6_single_sim_2             0.1   \n",
       "12  single_sim/small_genotype_4_single_sim_2             0.1   \n",
       "13  single_sim/small_genotype_5_single_sim_2             0.1   \n",
       "14  single_sim/small_genotype_6_single_sim_2             0.1   \n",
       "\n",
       "    single_sim.n_study  single_sim.n_causal_per_study           model  \n",
       "0                    5                              3           coloc  \n",
       "1                    5                              3           coloc  \n",
       "2                    5                              3           coloc  \n",
       "3                    5                              3         ecaviar  \n",
       "4                    5                              3         ecaviar  \n",
       "5                    5                              3         ecaviar  \n",
       "6                    5                              3  cafeh_genotype  \n",
       "7                    5                              3  cafeh_genotype  \n",
       "8                    5                              3  cafeh_genotype  \n",
       "9                    5                              3   cafeh_summary  \n",
       "10                   5                              3   cafeh_summary  \n",
       "11                   5                              3   cafeh_summary  \n",
       "12                   5                              3   cafeh_summary  \n",
       "13                   5                              3   cafeh_summary  \n",
       "14                   5                              3   cafeh_summary  "
      ]
     },
     "execution_count": 4,
     "metadata": {},
     "output_type": "execute_result"
    }
   ],
   "source": [
    "xls = pd.ExcelFile(query_file)\n",
    "info = [xls.parse(x) for x in xls.sheet_names]\n",
    "spec = pd.read_excel(xls, 'Sheet1')\n",
    "aggregate_columns(spec, 'model')"
   ]
  },
  {
   "cell_type": "code",
   "execution_count": 5,
   "metadata": {},
   "outputs": [],
   "source": [
    "query = load_output_columns(spec)"
   ]
  },
  {
   "cell_type": "code",
   "execution_count": 6,
   "metadata": {},
   "outputs": [],
   "source": [
    "query.rename(columns={c: c.replace('single_sim', 'simulations') for c in query.columns}, inplace=True)"
   ]
  },
  {
   "cell_type": "markdown",
   "metadata": {},
   "source": [
    "### Make PR curves for pips\n",
    "\n",
    "We can compare finemapping performance of SuSiE, CAVIAR, and CAFEH with (study, variant) PIPs\n",
    "for SuSie and CAVIAR these are just the PIPs for each study concatenated\n",
    "for CAFEH we can compute a study level pip: the posterior inclusion probability for a particular study"
   ]
  },
  {
   "cell_type": "code",
   "execution_count": 7,
   "metadata": {},
   "outputs": [],
   "source": [
    "def make_pr_curve(df, label):\n",
    "    labels = np.concatenate([x.flatten() != 0 for x in df.true_effects.values])\n",
    "    pred = np.concatenate([x.flatten() for x in df.study_pip.values])\n",
    "\n",
    "    p, r, t = precision_recall_curve(labels, pred)\n",
    "    plt.plot(r, p, label=label)"
   ]
  },
  {
   "cell_type": "code",
   "execution_count": 8,
   "metadata": {},
   "outputs": [],
   "source": [
    "def make_prg_curve(df, label):\n",
    "    labels = np.concatenate([x.flatten() != 0 for x in df.true_effects.values])\n",
    "    pred = np.concatenate([x.flatten() for x in df.study_pip.values])\n",
    "    prg_curve = prg.create_prg_curve(labels, pred)\n",
    "    p, r = prg_curve['precision_gain'], prg_curve['recall_gain']\n",
    "    plt.plot(p, r, label=label)"
   ]
  },
  {
   "cell_type": "code",
   "execution_count": 9,
   "metadata": {},
   "outputs": [],
   "source": [
    "def _plot_pr(X, Y, **kwargs):\n",
    "    labels = np.concatenate([x.flatten() != 0 for x in X])\n",
    "    pred = np.concatenate([y.flatten() for y in Y])\n",
    "\n",
    "    p, r, _ = precision_recall_curve(labels, pred)\n",
    "    plt.plot(r, p, **kwargs)\n",
    "    \n",
    "def _plot_prg(X, Y, **kwargs):\n",
    "    labels = np.concatenate([x.flatten() != 0 for x in X])\n",
    "    pred = np.concatenate([y.flatten() for y in Y])\n",
    "    prg_curve = prg.create_prg_curve(labels, pred)\n",
    "    p, r = prg_curve['precision_gain'], prg_curve['recall_gain']\n",
    "    plt.plot(r, p, **kwargs)    "
   ]
  },
  {
   "cell_type": "code",
   "execution_count": 10,
   "metadata": {},
   "outputs": [
    {
     "data": {
      "text/plain": [
       "array(['coloc', 'ecaviar', 'cafeh_genotype', 'cafeh_summary'],\n",
       "      dtype=object)"
      ]
     },
     "execution_count": 10,
     "metadata": {},
     "output_type": "execute_result"
    }
   ],
   "source": [
    "query.model.unique()"
   ]
  },
  {
   "cell_type": "code",
   "execution_count": 11,
   "metadata": {},
   "outputs": [
    {
     "data": {
      "text/plain": [
       "Index(['DSC', 'fit_cafeh', 'simulations.pve', 'simulations.n_study',\n",
       "       'simulations.n_causal_per_study', 'model', 'p_coloc', 'true_coloc'],\n",
       "      dtype='object')"
      ]
     },
     "execution_count": 11,
     "metadata": {},
     "output_type": "execute_result"
    }
   ],
   "source": [
    "query.columns"
   ]
  },
  {
   "cell_type": "markdown",
   "metadata": {},
   "source": [
    "### Precision recall curves"
   ]
  },
  {
   "cell_type": "code",
   "execution_count": 12,
   "metadata": {},
   "outputs": [
    {
     "data": {
      "text/plain": [
       "<seaborn.axisgrid.FacetGrid at 0x121e5e390>"
      ]
     },
     "execution_count": 12,
     "metadata": {},
     "output_type": "execute_result"
    },
    {
     "data": {
      "image/png": "[encoded data removed]",
      "text/plain": [
       "<Figure size 331.75x216 with 1 Axes>"
      ]
     },
     "metadata": {
      "needs_background": "light"
     },
     "output_type": "display_data"
    }
   ],
   "source": [
    "models = query.model.unique()\n",
    "#models = ['susie_genotype', 'susie_genotype_ss', 'cafeh_genotype', 'CAVIAR']\n",
    "df = query[query.model.isin(models)]\n",
    "g = sns.FacetGrid(df, hue='model', col='simulations.pve', row='simulations.n_study')\n",
    "g.map(_plot_pr, 'true_coloc', 'p_coloc')\n",
    "g.add_legend()\n",
    "g.set_titles(row_template = '{row_name}', col_template = '{col_name}')"
   ]
  },
  {
   "cell_type": "markdown",
   "metadata": {},
   "source": [
    "### Precision Recall Gain Curves"
   ]
  },
  {
   "cell_type": "code",
   "execution_count": 13,
   "metadata": {},
   "outputs": [
    {
     "data": {
      "image/png": "[encoded data removed]",
      "text/plain": [
       "<Figure size 331.75x216 with 1 Axes>"
      ]
     },
     "metadata": {
      "needs_background": "light"
     },
     "output_type": "display_data"
    }
   ],
   "source": [
    "#models = ['susie_genotype', 'susie_genotype_ss', 'cafeh_genotype', 'CAVIAR']\n",
    "df = query\n",
    "g = sns.FacetGrid(df, hue='model', col='simulations.pve', row='simulations.n_study')\n",
    "g.map(_plot_prg, 'true_coloc', 'p_coloc')\n",
    "g.add_legend();"
   ]
  },
  {
   "cell_type": "code",
   "execution_count": null,
   "metadata": {},
   "outputs": [],
   "source": []
  }
 ],
 "metadata": {
  "kernelspec": {
   "display_name": "Python 3",
   "language": "python",
   "name": "python3"
  },
  "language_info": {
   "codemirror_mode": {
    "name": "ipython",
    "version": 3
   },
   "file_extension": ".py",
   "mimetype": "text/x-python",
   "name": "python",
   "nbconvert_exporter": "python",
   "pygments_lexer": "ipython3",
   "version": "3.6.10"
  }
 },
 "nbformat": 4,
 "nbformat_minor": 4
}
