{
 "cells": [
  {
   "cell_type": "code",
   "execution_count": 1,
   "metadata": {},
   "outputs": [],
   "source": [
    "import pickle\n",
    "import pandas as pd\n",
    "import numpy as np\n",
    "import matplotlib.pyplot as plt\n",
    "from copy import deepcopy\n",
    "import seaborn as sns\n",
    "import subprocess"
   ]
  },
  {
   "cell_type": "code",
   "execution_count": 2,
   "metadata": {},
   "outputs": [],
   "source": [
    "def get_target(col):\n",
    "    return col.split('.')[1].split(':')[0]\n",
    "\n",
    "def load_target(path, target):\n",
    "    try:\n",
    "        return pickle.load(open('{}/{}.pkl'.format(DSC_PATH, path), 'rb'))[target]\n",
    "    except Exception:\n",
    "        return []\n",
    "\n",
    "def load_query_targets(spec):\n",
    "    \"\"\"\n",
    "    load query targets from DSC database\n",
    "    \"\"\"\n",
    "    output_columns = spec.columns[['output' in c for c in spec.columns]]\n",
    "    spec = deepcopy(spec)\n",
    "    target2oc = {}\n",
    "    for oc in output_columns:\n",
    "        target = get_target(oc)\n",
    "        if target in target2oc:\n",
    "            target2oc[target].append(oc)\n",
    "        else:\n",
    "            target2oc[target] = [oc]\n",
    "\n",
    "    for target in target2oc:\n",
    "        fp = pd.concat([spec.loc[:, target2oc[target][i]].dropna() for i in range(len(target2oc[target]))])\n",
    "        spec.loc[:, '{}_path'.format(target)] = fp\n",
    "\n",
    "    targets = list(target2oc.keys())\n",
    "\n",
    "    for target in targets:\n",
    "        spec.loc[:, target] = spec.loc[:, '{}_path'.format(target)].apply(\n",
    "            lambda x: load_target(x, target))\n",
    "        spec = spec.drop(labels='{}_path'.format(target), axis=1)\n",
    "    return spec"
   ]
  },
  {
   "cell_type": "code",
   "execution_count": 22,
   "metadata": {},
   "outputs": [
    {
     "data": {
      "text/plain": [
       "CompletedProcess(args='dsc-query ../prototype2/ -t fit_cafeh_summary.credible_sets fit_cafeh_summary.purity fit_cafeh_summary.active fit_cafeh_genotype.credible_sets fit_cafeh_genotype.purity fit_cafeh_genotype.active tissue_specific_sim.true_effects tissue_specific_sim.pve tissue_specific_sim.n_study tissue_specific_sim.n_causal_per_study -o cset_query.xlsx', returncode=0)"
      ]
     },
     "execution_count": 22,
     "metadata": {},
     "output_type": "execute_result"
    }
   ],
   "source": [
    "DSC_PATH = '../prototype2/'\n",
    "\n",
    "targets = [\n",
    "    'fit_cafeh.credible_sets', 'fit_cafeh.purity', 'fit_cafeh.active',\n",
    "    'fit_susie.credible_sets', 'fit_susie.purity',\n",
    "    'simulations.true_effects',\n",
    "    'simulations.pve', 'simulations.n_study', 'simulations.n_causal_per_study'\n",
    "]\n",
    "\n",
    "targets = [\n",
    "    'fit_cafeh_summary.credible_sets', 'fit_cafeh_summary.purity', 'fit_cafeh_summary.active',\n",
    "    'fit_cafeh_genotype.credible_sets', 'fit_cafeh_genotype.purity', 'fit_cafeh_genotype.active',\n",
    "    'tissue_specific_sim.true_effects',\n",
    "    'tissue_specific_sim.pve', 'tissue_specific_sim.n_study', 'tissue_specific_sim.n_causal_per_study'\n",
    "]\n",
    "query_file = 'cset_query.xlsx'\n",
    "\n",
    "cmd_args = [\n",
    "    'dsc-query', DSC_PATH,\n",
    "    '-t', ' '.join(targets),\n",
    "    '-o', query_file\n",
    "]\n",
    "\n",
    "subprocess.run('rm {}'.format(query_file), shell=True)\n",
    "subprocess.run(' '.join(cmd_args), shell=True)"
   ]
  },
  {
   "cell_type": "code",
   "execution_count": 26,
   "metadata": {},
   "outputs": [],
   "source": [
    "xls = pd.ExcelFile(query_file)\n",
    "info = [xls.parse(x) for x in xls.sheet_names]\n",
    "spec = pd.read_excel(xls, 'Sheet1')\n",
    "query = load_query_targets(spec)"
   ]
  },
  {
   "cell_type": "code",
   "execution_count": null,
   "metadata": {},
   "outputs": [],
   "source": [
    "# put model names into one column for easier filtering\n",
    "\n",
    "model_columns = ['fit_cafeh', 'fit_susie']\n",
    "query.loc[:, 'model'] = pd.concat(\n",
    "    [query.loc[:, mc].dropna().apply(lambda x: '_'.join(x.split('_')[1:])) for mc in model_columns])"
   ]
  },
  {
   "cell_type": "code",
   "execution_count": 29,
   "metadata": {},
   "outputs": [],
   "source": [
    "query.loc[:, 'model'] = query.iloc[:, 1].apply(lambda x: 'genotype' if (x is np.nan) else 'summary')"
   ]
  },
  {
   "cell_type": "code",
   "execution_count": 42,
   "metadata": {},
   "outputs": [
    {
     "data": {
      "text/plain": [
       "'tist'"
      ]
     },
     "execution_count": 42,
     "metadata": {},
     "output_type": "execute_result"
    }
   ],
   "source": [
    "'test'.replace('e', 'i')"
   ]
  },
  {
   "cell_type": "code",
   "execution_count": 43,
   "metadata": {},
   "outputs": [],
   "source": [
    "query = query.rename(columns={x: x.replace('tissue_specific_sim', 'simulations') for x in query.columns})"
   ]
  },
  {
   "cell_type": "code",
   "execution_count": 44,
   "metadata": {},
   "outputs": [],
   "source": [
    "def _score_cset(causal_snps, credible_sets, purity):\n",
    "    \"\"\"\n",
    "    causal_snps: list of causal snps\n",
    "    credible_sets: {component: credible_set} dictionary\n",
    "    purity: {component: purity} dictionary\n",
    "    \"\"\"\n",
    "    # how many of these components are pure?\n",
    "    pure = np.array([purity[k] > 0.5 for k in purity])\n",
    "\n",
    "    # how many component contain a causal snp\n",
    "    cs_contains_causal = np.array([np.any(np.isin(credible_sets[k], causal_snps))\n",
    "                                   for k in credible_sets])\n",
    "    try:\n",
    "        all_credible_snps = np.unique(np.concatenate(\n",
    "            [credible_sets[k] for k in credible_sets if (purity[k] > 0.5)]))\n",
    "    except ValueError:\n",
    "        all_credible_snps = np.array([])\n",
    "\n",
    "    # how many causal snps are captured in a pure component\n",
    "    causal_in_credible_set = np.isin(causal_snps, all_credible_snps)\n",
    "\n",
    "    # how many causal snps are the first snp in a component\n",
    "    top_credible_snps = np.unique([credible_sets[k][0] for k in credible_sets if (purity[k] > 0.5)])\n",
    "    top_causal = np.isin(causal_snps, top_credible_snps)\n",
    "        \n",
    "    return {\n",
    "        'n_components': pure.sum(),\n",
    "        'n_components_with_causal': np.logical_and(cs_contains_causal, pure).sum(),\n",
    "        'n_causal_in_cs': causal_in_credible_set.sum(),\n",
    "        'n_top_causal': top_causal.sum(),\n",
    "        'n_causal': causal_snps.size,\n",
    "        'n_credible_snps': all_credible_snps.size\n",
    "    }\n",
    "\n",
    "def _score_study_cset(credible_sets, purity, true_effects, **kwargs):\n",
    "    \"\"\"\n",
    "    compute finemapping scores at study level\n",
    "    credible_sets: list of length #of studies of credible set dictionaries\n",
    "    purity: list of length # of studies of credible set dictionaries\n",
    "    \"\"\"\n",
    "    results = []\n",
    "    for t in range(true_effects.shape[0]):\n",
    "        # get the causal snps\n",
    "        causal_snps = np.where(true_effects[t] != 0)[0]\n",
    "        results.append(_score_cset(causal_snps, credible_sets[t], purity[t]))\n",
    "    return results"
   ]
  },
  {
   "cell_type": "code",
   "execution_count": 45,
   "metadata": {},
   "outputs": [],
   "source": [
    "def _score_study_cset_cafeh(credible_sets, purity, true_effects, active, **kwargs):\n",
    "    \"\"\"\n",
    "    score cset for each study seperately\n",
    "    \"\"\"\n",
    "    cs = []\n",
    "    p = []\n",
    "    for t, a in enumerate(active):\n",
    "        active_in_study = np.arange(a.size)[a > 0.5]\n",
    "        p.append({k: purity[k] for k in active_in_study if (k in purity)})\n",
    "        cs.append({k: credible_sets[k] for k in active_in_study if (k in purity)})\n",
    "    return _score_study_cset(cs, p, true_effects)\n",
    "\n",
    "def _score_study_cset_susie(credible_sets, purity, true_effects, **kwargs):\n",
    "    return _score_study_cset(credible_sets, purity, true_effects)\n",
    "\n",
    "\n",
    "def score_study_cset(id_vars=None, **kwargs):\n",
    "    if 'susie' in kwargs['model']:\n",
    "        results = _score_study_cset_susie(**kwargs)\n",
    "    else:\n",
    "        results = _score_study_cset_cafeh(**kwargs)\n",
    "    if id_vars is not None:\n",
    "        id_vars = {id_var: kwargs.get(id_var, None) for id_var in id_vars}\n",
    "        [r.update(id_vars) for r in results]\n",
    "    return results"
   ]
  },
  {
   "cell_type": "code",
   "execution_count": 46,
   "metadata": {},
   "outputs": [],
   "source": [
    "def _score_total_cset_susie(credible_sets, purity, true_effects, **kwargs):\n",
    "    causal_snps = np.arange(true_effects.shape[1])[np.any(true_effects != 0, 0)]\n",
    "    cs = {}\n",
    "    p = {}\n",
    "    \n",
    "    counter = 0\n",
    "    for t in range(len(credible_sets)):\n",
    "        for k in credible_sets[t]:\n",
    "            cs[counter] = credible_sets[t][k]\n",
    "            p[counter] = purity[t][k]\n",
    "            counter += 1\n",
    "    return _score_cset(causal_snps, cs, p)\n",
    "\n",
    "def _score_total_cset_cafeh(credible_sets, purity, true_effects, **kwargs):\n",
    "    causal_snps = np.arange(true_effects.shape[1])[np.any(true_effects != 0, 0)]\n",
    "    return _score_cset(causal_snps, credible_sets, purity)\n",
    "\n",
    "def score_total_cset(id_vars=None, **kwargs):\n",
    "    if 'susie' in kwargs['model']:\n",
    "        results = _score_total_cset_susie(**kwargs)\n",
    "    else:\n",
    "        results = _score_total_cset_cafeh(**kwargs)\n",
    "\n",
    "    if id_vars is not None:\n",
    "        id_vars = {id_var: kwargs.get(id_var, None) for id_var in id_vars}\n",
    "        results.update(id_vars)\n",
    "    return results        "
   ]
  },
  {
   "cell_type": "code",
   "execution_count": 47,
   "metadata": {},
   "outputs": [],
   "source": [
    "id_vars = ['model', 'simulations', 'simulations.pve', 'simulations.n_study', 'simulations.n_causal_per_study']"
   ]
  },
  {
   "cell_type": "code",
   "execution_count": 48,
   "metadata": {},
   "outputs": [
    {
     "data": {
      "text/html": [
       "<div>\n",
       "<style scoped>\n",
       "    .dataframe tbody tr th:only-of-type {\n",
       "        vertical-align: middle;\n",
       "    }\n",
       "\n",
       "    .dataframe tbody tr th {\n",
       "        vertical-align: top;\n",
       "    }\n",
       "\n",
       "    .dataframe thead th {\n",
       "        text-align: right;\n",
       "    }\n",
       "</style>\n",
       "<table border=\"1\" class=\"dataframe\">\n",
       "  <thead>\n",
       "    <tr style=\"text-align: right;\">\n",
       "      <th></th>\n",
       "      <th>n_components</th>\n",
       "      <th>n_components_with_causal</th>\n",
       "      <th>n_causal_in_cs</th>\n",
       "      <th>n_top_causal</th>\n",
       "      <th>n_causal</th>\n",
       "      <th>n_credible_snps</th>\n",
       "      <th>model</th>\n",
       "      <th>simulations</th>\n",
       "      <th>simulations.pve</th>\n",
       "      <th>simulations.n_study</th>\n",
       "      <th>simulations.n_causal_per_study</th>\n",
       "    </tr>\n",
       "  </thead>\n",
       "  <tbody>\n",
       "    <tr>\n",
       "      <th>0</th>\n",
       "      <td>1</td>\n",
       "      <td>1</td>\n",
       "      <td>1</td>\n",
       "      <td>1</td>\n",
       "      <td>1</td>\n",
       "      <td>1</td>\n",
       "      <td>genotype</td>\n",
       "      <td>None</td>\n",
       "      <td>0.05</td>\n",
       "      <td>1</td>\n",
       "      <td>1</td>\n",
       "    </tr>\n",
       "    <tr>\n",
       "      <th>1</th>\n",
       "      <td>1</td>\n",
       "      <td>1</td>\n",
       "      <td>1</td>\n",
       "      <td>1</td>\n",
       "      <td>1</td>\n",
       "      <td>1</td>\n",
       "      <td>genotype</td>\n",
       "      <td>None</td>\n",
       "      <td>0.05</td>\n",
       "      <td>1</td>\n",
       "      <td>1</td>\n",
       "    </tr>\n",
       "    <tr>\n",
       "      <th>2</th>\n",
       "      <td>1</td>\n",
       "      <td>1</td>\n",
       "      <td>1</td>\n",
       "      <td>1</td>\n",
       "      <td>1</td>\n",
       "      <td>1</td>\n",
       "      <td>genotype</td>\n",
       "      <td>None</td>\n",
       "      <td>0.05</td>\n",
       "      <td>1</td>\n",
       "      <td>1</td>\n",
       "    </tr>\n",
       "    <tr>\n",
       "      <th>3</th>\n",
       "      <td>1</td>\n",
       "      <td>1</td>\n",
       "      <td>1</td>\n",
       "      <td>1</td>\n",
       "      <td>2</td>\n",
       "      <td>1</td>\n",
       "      <td>genotype</td>\n",
       "      <td>None</td>\n",
       "      <td>0.05</td>\n",
       "      <td>2</td>\n",
       "      <td>1</td>\n",
       "    </tr>\n",
       "    <tr>\n",
       "      <th>4</th>\n",
       "      <td>2</td>\n",
       "      <td>2</td>\n",
       "      <td>2</td>\n",
       "      <td>2</td>\n",
       "      <td>2</td>\n",
       "      <td>13</td>\n",
       "      <td>genotype</td>\n",
       "      <td>None</td>\n",
       "      <td>0.05</td>\n",
       "      <td>2</td>\n",
       "      <td>1</td>\n",
       "    </tr>\n",
       "    <tr>\n",
       "      <th>...</th>\n",
       "      <td>...</td>\n",
       "      <td>...</td>\n",
       "      <td>...</td>\n",
       "      <td>...</td>\n",
       "      <td>...</td>\n",
       "      <td>...</td>\n",
       "      <td>...</td>\n",
       "      <td>...</td>\n",
       "      <td>...</td>\n",
       "      <td>...</td>\n",
       "      <td>...</td>\n",
       "    </tr>\n",
       "    <tr>\n",
       "      <th>595</th>\n",
       "      <td>5</td>\n",
       "      <td>5</td>\n",
       "      <td>5</td>\n",
       "      <td>5</td>\n",
       "      <td>48</td>\n",
       "      <td>5</td>\n",
       "      <td>summary</td>\n",
       "      <td>None</td>\n",
       "      <td>0.40</td>\n",
       "      <td>10</td>\n",
       "      <td>5</td>\n",
       "    </tr>\n",
       "    <tr>\n",
       "      <th>596</th>\n",
       "      <td>5</td>\n",
       "      <td>5</td>\n",
       "      <td>5</td>\n",
       "      <td>5</td>\n",
       "      <td>48</td>\n",
       "      <td>5</td>\n",
       "      <td>summary</td>\n",
       "      <td>None</td>\n",
       "      <td>0.40</td>\n",
       "      <td>10</td>\n",
       "      <td>5</td>\n",
       "    </tr>\n",
       "    <tr>\n",
       "      <th>597</th>\n",
       "      <td>5</td>\n",
       "      <td>4</td>\n",
       "      <td>4</td>\n",
       "      <td>4</td>\n",
       "      <td>95</td>\n",
       "      <td>5</td>\n",
       "      <td>summary</td>\n",
       "      <td>None</td>\n",
       "      <td>0.40</td>\n",
       "      <td>20</td>\n",
       "      <td>5</td>\n",
       "    </tr>\n",
       "    <tr>\n",
       "      <th>598</th>\n",
       "      <td>5</td>\n",
       "      <td>3</td>\n",
       "      <td>3</td>\n",
       "      <td>2</td>\n",
       "      <td>97</td>\n",
       "      <td>10</td>\n",
       "      <td>summary</td>\n",
       "      <td>None</td>\n",
       "      <td>0.40</td>\n",
       "      <td>20</td>\n",
       "      <td>5</td>\n",
       "    </tr>\n",
       "    <tr>\n",
       "      <th>599</th>\n",
       "      <td>5</td>\n",
       "      <td>5</td>\n",
       "      <td>6</td>\n",
       "      <td>5</td>\n",
       "      <td>92</td>\n",
       "      <td>11</td>\n",
       "      <td>summary</td>\n",
       "      <td>None</td>\n",
       "      <td>0.40</td>\n",
       "      <td>20</td>\n",
       "      <td>5</td>\n",
       "    </tr>\n",
       "  </tbody>\n",
       "</table>\n",
       "<p>600 rows × 11 columns</p>\n",
       "</div>"
      ],
      "text/plain": [
       "     n_components  n_components_with_causal  n_causal_in_cs  n_top_causal  \\\n",
       "0               1                         1               1             1   \n",
       "1               1                         1               1             1   \n",
       "2               1                         1               1             1   \n",
       "3               1                         1               1             1   \n",
       "4               2                         2               2             2   \n",
       "..            ...                       ...             ...           ...   \n",
       "595             5                         5               5             5   \n",
       "596             5                         5               5             5   \n",
       "597             5                         4               4             4   \n",
       "598             5                         3               3             2   \n",
       "599             5                         5               6             5   \n",
       "\n",
       "     n_causal  n_credible_snps     model simulations  simulations.pve  \\\n",
       "0           1                1  genotype        None             0.05   \n",
       "1           1                1  genotype        None             0.05   \n",
       "2           1                1  genotype        None             0.05   \n",
       "3           2                1  genotype        None             0.05   \n",
       "4           2               13  genotype        None             0.05   \n",
       "..        ...              ...       ...         ...              ...   \n",
       "595        48                5   summary        None             0.40   \n",
       "596        48                5   summary        None             0.40   \n",
       "597        95                5   summary        None             0.40   \n",
       "598        97               10   summary        None             0.40   \n",
       "599        92               11   summary        None             0.40   \n",
       "\n",
       "     simulations.n_study  simulations.n_causal_per_study  \n",
       "0                      1                               1  \n",
       "1                      1                               1  \n",
       "2                      1                               1  \n",
       "3                      2                               1  \n",
       "4                      2                               1  \n",
       "..                   ...                             ...  \n",
       "595                   10                               5  \n",
       "596                   10                               5  \n",
       "597                   20                               5  \n",
       "598                   20                               5  \n",
       "599                   20                               5  \n",
       "\n",
       "[600 rows x 11 columns]"
      ]
     },
     "execution_count": 48,
     "metadata": {},
     "output_type": "execute_result"
    }
   ],
   "source": [
    "total_cset = pd.DataFrame([score_total_cset(id_vars=id_vars, **row.to_dict()) for _, row in query.iterrows()])\n",
    "total_cset"
   ]
  },
  {
   "cell_type": "code",
   "execution_count": 49,
   "metadata": {},
   "outputs": [
    {
     "data": {
      "text/html": [
       "<div>\n",
       "<style scoped>\n",
       "    .dataframe tbody tr th:only-of-type {\n",
       "        vertical-align: middle;\n",
       "    }\n",
       "\n",
       "    .dataframe tbody tr th {\n",
       "        vertical-align: top;\n",
       "    }\n",
       "\n",
       "    .dataframe thead th {\n",
       "        text-align: right;\n",
       "    }\n",
       "</style>\n",
       "<table border=\"1\" class=\"dataframe\">\n",
       "  <thead>\n",
       "    <tr style=\"text-align: right;\">\n",
       "      <th></th>\n",
       "      <th>n_components</th>\n",
       "      <th>n_components_with_causal</th>\n",
       "      <th>n_causal_in_cs</th>\n",
       "      <th>n_top_causal</th>\n",
       "      <th>n_causal</th>\n",
       "      <th>n_credible_snps</th>\n",
       "      <th>model</th>\n",
       "      <th>simulations</th>\n",
       "      <th>simulations.pve</th>\n",
       "      <th>simulations.n_study</th>\n",
       "      <th>simulations.n_causal_per_study</th>\n",
       "    </tr>\n",
       "  </thead>\n",
       "  <tbody>\n",
       "    <tr>\n",
       "      <th>0</th>\n",
       "      <td>1.0</td>\n",
       "      <td>1</td>\n",
       "      <td>1</td>\n",
       "      <td>1</td>\n",
       "      <td>1</td>\n",
       "      <td>1</td>\n",
       "      <td>genotype</td>\n",
       "      <td>None</td>\n",
       "      <td>0.05</td>\n",
       "      <td>1</td>\n",
       "      <td>1</td>\n",
       "    </tr>\n",
       "    <tr>\n",
       "      <th>1</th>\n",
       "      <td>1.0</td>\n",
       "      <td>1</td>\n",
       "      <td>1</td>\n",
       "      <td>1</td>\n",
       "      <td>1</td>\n",
       "      <td>1</td>\n",
       "      <td>genotype</td>\n",
       "      <td>None</td>\n",
       "      <td>0.05</td>\n",
       "      <td>1</td>\n",
       "      <td>1</td>\n",
       "    </tr>\n",
       "    <tr>\n",
       "      <th>2</th>\n",
       "      <td>1.0</td>\n",
       "      <td>1</td>\n",
       "      <td>1</td>\n",
       "      <td>1</td>\n",
       "      <td>1</td>\n",
       "      <td>1</td>\n",
       "      <td>genotype</td>\n",
       "      <td>None</td>\n",
       "      <td>0.05</td>\n",
       "      <td>1</td>\n",
       "      <td>1</td>\n",
       "    </tr>\n",
       "    <tr>\n",
       "      <th>3</th>\n",
       "      <td>1.0</td>\n",
       "      <td>1</td>\n",
       "      <td>1</td>\n",
       "      <td>1</td>\n",
       "      <td>2</td>\n",
       "      <td>1</td>\n",
       "      <td>genotype</td>\n",
       "      <td>None</td>\n",
       "      <td>0.05</td>\n",
       "      <td>2</td>\n",
       "      <td>1</td>\n",
       "    </tr>\n",
       "    <tr>\n",
       "      <th>4</th>\n",
       "      <td>1.0</td>\n",
       "      <td>1</td>\n",
       "      <td>1</td>\n",
       "      <td>1</td>\n",
       "      <td>1</td>\n",
       "      <td>1</td>\n",
       "      <td>genotype</td>\n",
       "      <td>None</td>\n",
       "      <td>0.05</td>\n",
       "      <td>2</td>\n",
       "      <td>1</td>\n",
       "    </tr>\n",
       "    <tr>\n",
       "      <th>...</th>\n",
       "      <td>...</td>\n",
       "      <td>...</td>\n",
       "      <td>...</td>\n",
       "      <td>...</td>\n",
       "      <td>...</td>\n",
       "      <td>...</td>\n",
       "      <td>...</td>\n",
       "      <td>...</td>\n",
       "      <td>...</td>\n",
       "      <td>...</td>\n",
       "      <td>...</td>\n",
       "    </tr>\n",
       "    <tr>\n",
       "      <th>4555</th>\n",
       "      <td>2.0</td>\n",
       "      <td>1</td>\n",
       "      <td>1</td>\n",
       "      <td>1</td>\n",
       "      <td>17</td>\n",
       "      <td>4</td>\n",
       "      <td>summary</td>\n",
       "      <td>None</td>\n",
       "      <td>0.40</td>\n",
       "      <td>20</td>\n",
       "      <td>5</td>\n",
       "    </tr>\n",
       "    <tr>\n",
       "      <th>4556</th>\n",
       "      <td>3.0</td>\n",
       "      <td>1</td>\n",
       "      <td>1</td>\n",
       "      <td>1</td>\n",
       "      <td>17</td>\n",
       "      <td>7</td>\n",
       "      <td>summary</td>\n",
       "      <td>None</td>\n",
       "      <td>0.40</td>\n",
       "      <td>20</td>\n",
       "      <td>5</td>\n",
       "    </tr>\n",
       "    <tr>\n",
       "      <th>4557</th>\n",
       "      <td>3.0</td>\n",
       "      <td>1</td>\n",
       "      <td>1</td>\n",
       "      <td>0</td>\n",
       "      <td>17</td>\n",
       "      <td>9</td>\n",
       "      <td>summary</td>\n",
       "      <td>None</td>\n",
       "      <td>0.40</td>\n",
       "      <td>20</td>\n",
       "      <td>5</td>\n",
       "    </tr>\n",
       "    <tr>\n",
       "      <th>4558</th>\n",
       "      <td>3.0</td>\n",
       "      <td>2</td>\n",
       "      <td>2</td>\n",
       "      <td>2</td>\n",
       "      <td>17</td>\n",
       "      <td>7</td>\n",
       "      <td>summary</td>\n",
       "      <td>None</td>\n",
       "      <td>0.40</td>\n",
       "      <td>20</td>\n",
       "      <td>5</td>\n",
       "    </tr>\n",
       "    <tr>\n",
       "      <th>4559</th>\n",
       "      <td>4.0</td>\n",
       "      <td>3</td>\n",
       "      <td>3</td>\n",
       "      <td>3</td>\n",
       "      <td>17</td>\n",
       "      <td>8</td>\n",
       "      <td>summary</td>\n",
       "      <td>None</td>\n",
       "      <td>0.40</td>\n",
       "      <td>20</td>\n",
       "      <td>5</td>\n",
       "    </tr>\n",
       "  </tbody>\n",
       "</table>\n",
       "<p>4560 rows × 11 columns</p>\n",
       "</div>"
      ],
      "text/plain": [
       "      n_components  n_components_with_causal  n_causal_in_cs  n_top_causal  \\\n",
       "0              1.0                         1               1             1   \n",
       "1              1.0                         1               1             1   \n",
       "2              1.0                         1               1             1   \n",
       "3              1.0                         1               1             1   \n",
       "4              1.0                         1               1             1   \n",
       "...            ...                       ...             ...           ...   \n",
       "4555           2.0                         1               1             1   \n",
       "4556           3.0                         1               1             1   \n",
       "4557           3.0                         1               1             0   \n",
       "4558           3.0                         2               2             2   \n",
       "4559           4.0                         3               3             3   \n",
       "\n",
       "      n_causal  n_credible_snps     model simulations  simulations.pve  \\\n",
       "0            1                1  genotype        None             0.05   \n",
       "1            1                1  genotype        None             0.05   \n",
       "2            1                1  genotype        None             0.05   \n",
       "3            2                1  genotype        None             0.05   \n",
       "4            1                1  genotype        None             0.05   \n",
       "...        ...              ...       ...         ...              ...   \n",
       "4555        17                4   summary        None             0.40   \n",
       "4556        17                7   summary        None             0.40   \n",
       "4557        17                9   summary        None             0.40   \n",
       "4558        17                7   summary        None             0.40   \n",
       "4559        17                8   summary        None             0.40   \n",
       "\n",
       "      simulations.n_study  simulations.n_causal_per_study  \n",
       "0                       1                               1  \n",
       "1                       1                               1  \n",
       "2                       1                               1  \n",
       "3                       2                               1  \n",
       "4                       2                               1  \n",
       "...                   ...                             ...  \n",
       "4555                   20                               5  \n",
       "4556                   20                               5  \n",
       "4557                   20                               5  \n",
       "4558                   20                               5  \n",
       "4559                   20                               5  \n",
       "\n",
       "[4560 rows x 11 columns]"
      ]
     },
     "execution_count": 49,
     "metadata": {},
     "output_type": "execute_result"
    }
   ],
   "source": [
    "from itertools import chain\n",
    "study_cset = pd.DataFrame(list(chain(*[score_study_cset(id_vars=id_vars, **row.to_dict()) for _, row in query.iterrows()])))\n",
    "study_cset"
   ]
  },
  {
   "cell_type": "code",
   "execution_count": 64,
   "metadata": {},
   "outputs": [],
   "source": [
    "resample = lambda x: x.loc[np.random.choice(x.index.values, x.shape[0])]\n",
    "\n",
    "compute_coverage = lambda x: x.n_components_with_causal.sum() / x.n_components.sum()\n",
    "compute_power = lambda x: x.n_causal_in_cs.sum() / x.n_causal.sum()\n",
    "compute_average_cs_size = lambda x: x.n_credible_snps.mean()"
   ]
  },
  {
   "cell_type": "code",
   "execution_count": 58,
   "metadata": {},
   "outputs": [],
   "source": [
    "def make_bootstrap_df(function, df, id_vars, bootstrap_samples=100):\n",
    "    coverage = pd.concat([df.groupby(id_vars).apply(\n",
    "        lambda x: function(resample(x))) for _ in range(bootstrap_samples)], axis=1)\n",
    "    return coverage.reset_index().melt(id_vars=id_vars)"
   ]
  },
  {
   "cell_type": "markdown",
   "metadata": {},
   "source": [
    "## Total cset analysis\n",
    "\n",
    "Make plots for total-credible set analysis\n",
    "that is, assess finemapping on each group of studies"
   ]
  },
  {
   "cell_type": "markdown",
   "metadata": {},
   "source": [
    "### Coverage"
   ]
  },
  {
   "cell_type": "code",
   "execution_count": 60,
   "metadata": {},
   "outputs": [
    {
     "name": "stderr",
     "output_type": "stream",
     "text": [
      "/Users/karltayeb/anaconda3/envs/cafeh-sim-env/lib/python3.6/site-packages/seaborn/axisgrid.py:723: UserWarning: Using the boxplot function without specifying `order` is likely to produce an incorrect plot.\n",
      "  warnings.warn(warning)\n",
      "/Users/karltayeb/anaconda3/envs/cafeh-sim-env/lib/python3.6/site-packages/seaborn/axisgrid.py:728: UserWarning: Using the boxplot function without specifying `hue_order` is likely to produce an incorrect plot.\n",
      "  warnings.warn(warning)\n"
     ]
    },
    {
     "data": {
      "text/plain": [
       "<seaborn.axisgrid.FacetGrid at 0x122b0df28>"
      ]
     },
     "execution_count": 60,
     "metadata": {},
     "output_type": "execute_result"
    },
    {
     "data": {
      "image/png": "[encoded data removed]",
      "text/plain": [
       "<Figure size 947x216 with 4 Axes>"
      ]
     },
     "metadata": {
      "needs_background": "light"
     },
     "output_type": "display_data"
    }
   ],
   "source": [
    "total_cset_coverage = make_bootstrap_df(compute_coverage, total_cset, ['model', 'simulations.n_study', 'simulations.pve'])\n",
    "\n",
    "g = sns.FacetGrid(data=total_cset_coverage, col='simulations.pve')\n",
    "g.map(sns.boxplot, 'simulations.n_study', 'value', 'model')\n",
    "g.add_legend()"
   ]
  },
  {
   "cell_type": "markdown",
   "metadata": {},
   "source": [
    "### Power"
   ]
  },
  {
   "cell_type": "code",
   "execution_count": 62,
   "metadata": {},
   "outputs": [
    {
     "name": "stderr",
     "output_type": "stream",
     "text": [
      "/Users/karltayeb/anaconda3/envs/cafeh-sim-env/lib/python3.6/site-packages/seaborn/axisgrid.py:723: UserWarning: Using the boxplot function without specifying `order` is likely to produce an incorrect plot.\n",
      "  warnings.warn(warning)\n",
      "/Users/karltayeb/anaconda3/envs/cafeh-sim-env/lib/python3.6/site-packages/seaborn/axisgrid.py:728: UserWarning: Using the boxplot function without specifying `hue_order` is likely to produce an incorrect plot.\n",
      "  warnings.warn(warning)\n"
     ]
    },
    {
     "data": {
      "text/plain": [
       "<seaborn.axisgrid.FacetGrid at 0x11d9be208>"
      ]
     },
     "execution_count": 62,
     "metadata": {},
     "output_type": "execute_result"
    },
    {
     "data": {
      "image/png": "[encoded data removed]",
      "text/plain": [
       "<Figure size 947x216 with 4 Axes>"
      ]
     },
     "metadata": {
      "needs_background": "light"
     },
     "output_type": "display_data"
    }
   ],
   "source": [
    "total_cset_power = make_bootstrap_df(compute_power, total_cset, ['model', 'simulations.n_study', 'simulations.pve'])\n",
    "\n",
    "g = sns.FacetGrid(data=total_cset_power, col='simulations.pve')\n",
    "g.map(sns.boxplot, 'simulations.n_study', 'value', 'model')\n",
    "g.add_legend()"
   ]
  },
  {
   "cell_type": "markdown",
   "metadata": {},
   "source": [
    "### Credible set size"
   ]
  },
  {
   "cell_type": "code",
   "execution_count": 65,
   "metadata": {},
   "outputs": [
    {
     "name": "stderr",
     "output_type": "stream",
     "text": [
      "/Users/karltayeb/anaconda3/envs/cafeh-sim-env/lib/python3.6/site-packages/seaborn/axisgrid.py:723: UserWarning: Using the boxplot function without specifying `order` is likely to produce an incorrect plot.\n",
      "  warnings.warn(warning)\n",
      "/Users/karltayeb/anaconda3/envs/cafeh-sim-env/lib/python3.6/site-packages/seaborn/axisgrid.py:728: UserWarning: Using the boxplot function without specifying `hue_order` is likely to produce an incorrect plot.\n",
      "  warnings.warn(warning)\n"
     ]
    },
    {
     "data": {
      "text/plain": [
       "<seaborn.axisgrid.FacetGrid at 0x121fcfa58>"
      ]
     },
     "execution_count": 65,
     "metadata": {},
     "output_type": "execute_result"
    },
    {
     "data": {
      "image/png": "[encoded data removed]",
      "text/plain": [
       "<Figure size 947x216 with 4 Axes>"
      ]
     },
     "metadata": {
      "needs_background": "light"
     },
     "output_type": "display_data"
    }
   ],
   "source": [
    "total_cset_cs_size = make_bootstrap_df(compute_average_cs_size, total_cset, ['model', 'simulations.n_study', 'simulations.pve'])\n",
    "\n",
    "g = sns.FacetGrid(data=total_cset_cs_size, col='simulations.pve')\n",
    "g.map(sns.boxplot, 'simulations.n_study', 'value', 'model')\n",
    "g.add_legend()"
   ]
  },
  {
   "cell_type": "code",
   "execution_count": 74,
   "metadata": {},
   "outputs": [
    {
     "data": {
      "text/html": [
       "<div>\n",
       "<style scoped>\n",
       "    .dataframe tbody tr th:only-of-type {\n",
       "        vertical-align: middle;\n",
       "    }\n",
       "\n",
       "    .dataframe tbody tr th {\n",
       "        vertical-align: top;\n",
       "    }\n",
       "\n",
       "    .dataframe thead th {\n",
       "        text-align: right;\n",
       "    }\n",
       "</style>\n",
       "<table border=\"1\" class=\"dataframe\">\n",
       "  <thead>\n",
       "    <tr style=\"text-align: right;\">\n",
       "      <th></th>\n",
       "      <th>n_components</th>\n",
       "      <th>n_components_with_causal</th>\n",
       "      <th>n_causal_in_cs</th>\n",
       "      <th>n_top_causal</th>\n",
       "      <th>n_causal</th>\n",
       "      <th>n_credible_snps</th>\n",
       "      <th>model</th>\n",
       "      <th>simulations</th>\n",
       "      <th>simulations.pve</th>\n",
       "      <th>simulations.n_study</th>\n",
       "      <th>simulations.n_causal_per_study</th>\n",
       "    </tr>\n",
       "  </thead>\n",
       "  <tbody>\n",
       "    <tr>\n",
       "      <th>0</th>\n",
       "      <td>1</td>\n",
       "      <td>1</td>\n",
       "      <td>1</td>\n",
       "      <td>1</td>\n",
       "      <td>1</td>\n",
       "      <td>1</td>\n",
       "      <td>genotype</td>\n",
       "      <td>None</td>\n",
       "      <td>0.05</td>\n",
       "      <td>1</td>\n",
       "      <td>1</td>\n",
       "    </tr>\n",
       "    <tr>\n",
       "      <th>1</th>\n",
       "      <td>1</td>\n",
       "      <td>1</td>\n",
       "      <td>1</td>\n",
       "      <td>1</td>\n",
       "      <td>1</td>\n",
       "      <td>1</td>\n",
       "      <td>genotype</td>\n",
       "      <td>None</td>\n",
       "      <td>0.05</td>\n",
       "      <td>1</td>\n",
       "      <td>1</td>\n",
       "    </tr>\n",
       "    <tr>\n",
       "      <th>2</th>\n",
       "      <td>1</td>\n",
       "      <td>1</td>\n",
       "      <td>1</td>\n",
       "      <td>1</td>\n",
       "      <td>1</td>\n",
       "      <td>1</td>\n",
       "      <td>genotype</td>\n",
       "      <td>None</td>\n",
       "      <td>0.05</td>\n",
       "      <td>1</td>\n",
       "      <td>1</td>\n",
       "    </tr>\n",
       "    <tr>\n",
       "      <th>3</th>\n",
       "      <td>1</td>\n",
       "      <td>1</td>\n",
       "      <td>1</td>\n",
       "      <td>1</td>\n",
       "      <td>2</td>\n",
       "      <td>1</td>\n",
       "      <td>genotype</td>\n",
       "      <td>None</td>\n",
       "      <td>0.05</td>\n",
       "      <td>2</td>\n",
       "      <td>1</td>\n",
       "    </tr>\n",
       "    <tr>\n",
       "      <th>4</th>\n",
       "      <td>2</td>\n",
       "      <td>2</td>\n",
       "      <td>2</td>\n",
       "      <td>2</td>\n",
       "      <td>2</td>\n",
       "      <td>13</td>\n",
       "      <td>genotype</td>\n",
       "      <td>None</td>\n",
       "      <td>0.05</td>\n",
       "      <td>2</td>\n",
       "      <td>1</td>\n",
       "    </tr>\n",
       "    <tr>\n",
       "      <th>...</th>\n",
       "      <td>...</td>\n",
       "      <td>...</td>\n",
       "      <td>...</td>\n",
       "      <td>...</td>\n",
       "      <td>...</td>\n",
       "      <td>...</td>\n",
       "      <td>...</td>\n",
       "      <td>...</td>\n",
       "      <td>...</td>\n",
       "      <td>...</td>\n",
       "      <td>...</td>\n",
       "    </tr>\n",
       "    <tr>\n",
       "      <th>595</th>\n",
       "      <td>5</td>\n",
       "      <td>5</td>\n",
       "      <td>5</td>\n",
       "      <td>5</td>\n",
       "      <td>48</td>\n",
       "      <td>5</td>\n",
       "      <td>summary</td>\n",
       "      <td>None</td>\n",
       "      <td>0.40</td>\n",
       "      <td>10</td>\n",
       "      <td>5</td>\n",
       "    </tr>\n",
       "    <tr>\n",
       "      <th>596</th>\n",
       "      <td>5</td>\n",
       "      <td>5</td>\n",
       "      <td>5</td>\n",
       "      <td>5</td>\n",
       "      <td>48</td>\n",
       "      <td>5</td>\n",
       "      <td>summary</td>\n",
       "      <td>None</td>\n",
       "      <td>0.40</td>\n",
       "      <td>10</td>\n",
       "      <td>5</td>\n",
       "    </tr>\n",
       "    <tr>\n",
       "      <th>597</th>\n",
       "      <td>5</td>\n",
       "      <td>4</td>\n",
       "      <td>4</td>\n",
       "      <td>4</td>\n",
       "      <td>95</td>\n",
       "      <td>5</td>\n",
       "      <td>summary</td>\n",
       "      <td>None</td>\n",
       "      <td>0.40</td>\n",
       "      <td>20</td>\n",
       "      <td>5</td>\n",
       "    </tr>\n",
       "    <tr>\n",
       "      <th>598</th>\n",
       "      <td>5</td>\n",
       "      <td>3</td>\n",
       "      <td>3</td>\n",
       "      <td>2</td>\n",
       "      <td>97</td>\n",
       "      <td>10</td>\n",
       "      <td>summary</td>\n",
       "      <td>None</td>\n",
       "      <td>0.40</td>\n",
       "      <td>20</td>\n",
       "      <td>5</td>\n",
       "    </tr>\n",
       "    <tr>\n",
       "      <th>599</th>\n",
       "      <td>5</td>\n",
       "      <td>5</td>\n",
       "      <td>6</td>\n",
       "      <td>5</td>\n",
       "      <td>92</td>\n",
       "      <td>11</td>\n",
       "      <td>summary</td>\n",
       "      <td>None</td>\n",
       "      <td>0.40</td>\n",
       "      <td>20</td>\n",
       "      <td>5</td>\n",
       "    </tr>\n",
       "  </tbody>\n",
       "</table>\n",
       "<p>600 rows × 11 columns</p>\n",
       "</div>"
      ],
      "text/plain": [
       "     n_components  n_components_with_causal  n_causal_in_cs  n_top_causal  \\\n",
       "0               1                         1               1             1   \n",
       "1               1                         1               1             1   \n",
       "2               1                         1               1             1   \n",
       "3               1                         1               1             1   \n",
       "4               2                         2               2             2   \n",
       "..            ...                       ...             ...           ...   \n",
       "595             5                         5               5             5   \n",
       "596             5                         5               5             5   \n",
       "597             5                         4               4             4   \n",
       "598             5                         3               3             2   \n",
       "599             5                         5               6             5   \n",
       "\n",
       "     n_causal  n_credible_snps     model simulations  simulations.pve  \\\n",
       "0           1                1  genotype        None             0.05   \n",
       "1           1                1  genotype        None             0.05   \n",
       "2           1                1  genotype        None             0.05   \n",
       "3           2                1  genotype        None             0.05   \n",
       "4           2               13  genotype        None             0.05   \n",
       "..        ...              ...       ...         ...              ...   \n",
       "595        48                5   summary        None             0.40   \n",
       "596        48                5   summary        None             0.40   \n",
       "597        95                5   summary        None             0.40   \n",
       "598        97               10   summary        None             0.40   \n",
       "599        92               11   summary        None             0.40   \n",
       "\n",
       "     simulations.n_study  simulations.n_causal_per_study  \n",
       "0                      1                               1  \n",
       "1                      1                               1  \n",
       "2                      1                               1  \n",
       "3                      2                               1  \n",
       "4                      2                               1  \n",
       "..                   ...                             ...  \n",
       "595                   10                               5  \n",
       "596                   10                               5  \n",
       "597                   20                               5  \n",
       "598                   20                               5  \n",
       "599                   20                               5  \n",
       "\n",
       "[600 rows x 11 columns]"
      ]
     },
     "execution_count": 74,
     "metadata": {},
     "output_type": "execute_result"
    }
   ],
   "source": [
    "total_cset"
   ]
  },
  {
   "cell_type": "code",
   "execution_count": 77,
   "metadata": {},
   "outputs": [
    {
     "name": "stderr",
     "output_type": "stream",
     "text": [
      "/Users/karltayeb/anaconda3/envs/cafeh-sim-env/lib/python3.6/site-packages/seaborn/axisgrid.py:723: UserWarning: Using the boxplot function without specifying `order` is likely to produce an incorrect plot.\n",
      "  warnings.warn(warning)\n",
      "/Users/karltayeb/anaconda3/envs/cafeh-sim-env/lib/python3.6/site-packages/seaborn/axisgrid.py:728: UserWarning: Using the boxplot function without specifying `hue_order` is likely to produce an incorrect plot.\n",
      "  warnings.warn(warning)\n"
     ]
    },
    {
     "data": {
      "text/plain": [
       "<seaborn.axisgrid.FacetGrid at 0x1251bbba8>"
      ]
     },
     "execution_count": 77,
     "metadata": {},
     "output_type": "execute_result"
    },
    {
     "data": {
      "image/png": "[encoded data removed]",
      "text/plain": [
       "<Figure size 864x216 with 4 Axes>"
      ]
     },
     "metadata": {
      "needs_background": "light"
     },
     "output_type": "display_data"
    }
   ],
   "source": [
    "g = sns.FacetGrid(data=total_cset, col='simulations.pve')\n",
    "g.map(sns.boxplot, 'n_causal', 'n_causal_in_cs', 'model')"
   ]
  },
  {
   "cell_type": "code",
   "execution_count": 75,
   "metadata": {},
   "outputs": [
    {
     "name": "stderr",
     "output_type": "stream",
     "text": [
      "/Users/karltayeb/anaconda3/envs/cafeh-sim-env/lib/python3.6/site-packages/seaborn/axisgrid.py:723: UserWarning: Using the boxplot function without specifying `order` is likely to produce an incorrect plot.\n",
      "  warnings.warn(warning)\n",
      "/Users/karltayeb/anaconda3/envs/cafeh-sim-env/lib/python3.6/site-packages/seaborn/axisgrid.py:728: UserWarning: Using the boxplot function without specifying `hue_order` is likely to produce an incorrect plot.\n",
      "  warnings.warn(warning)\n"
     ]
    },
    {
     "ename": "KeyError",
     "evalue": "\"['simulations.n_study'] not in index\"",
     "output_type": "error",
     "traceback": [
      "\u001b[0;31m---------------------------------------------------------------------------\u001b[0m",
      "\u001b[0;31mKeyError\u001b[0m                                  Traceback (most recent call last)",
      "\u001b[0;32m<ipython-input-75-ecd58a1fb4fb>\u001b[0m in \u001b[0;36m<module>\u001b[0;34m\u001b[0m\n\u001b[1;32m      2\u001b[0m \u001b[0;34m\u001b[0m\u001b[0m\n\u001b[1;32m      3\u001b[0m \u001b[0mg\u001b[0m \u001b[0;34m=\u001b[0m \u001b[0msns\u001b[0m\u001b[0;34m.\u001b[0m\u001b[0mFacetGrid\u001b[0m\u001b[0;34m(\u001b[0m\u001b[0mdata\u001b[0m\u001b[0;34m=\u001b[0m\u001b[0mtotal_cset_cs_size\u001b[0m\u001b[0;34m,\u001b[0m \u001b[0mcol\u001b[0m\u001b[0;34m=\u001b[0m\u001b[0;34m'simulations.pve'\u001b[0m\u001b[0;34m)\u001b[0m\u001b[0;34m\u001b[0m\u001b[0;34m\u001b[0m\u001b[0m\n\u001b[0;32m----> 4\u001b[0;31m \u001b[0mg\u001b[0m\u001b[0;34m.\u001b[0m\u001b[0mmap\u001b[0m\u001b[0;34m(\u001b[0m\u001b[0msns\u001b[0m\u001b[0;34m.\u001b[0m\u001b[0mboxplot\u001b[0m\u001b[0;34m,\u001b[0m \u001b[0;34m'simulations.n_study'\u001b[0m\u001b[0;34m,\u001b[0m \u001b[0;34m'value'\u001b[0m\u001b[0;34m,\u001b[0m \u001b[0;34m'model'\u001b[0m\u001b[0;34m)\u001b[0m\u001b[0;34m\u001b[0m\u001b[0;34m\u001b[0m\u001b[0m\n\u001b[0m\u001b[1;32m      5\u001b[0m \u001b[0mg\u001b[0m\u001b[0;34m.\u001b[0m\u001b[0madd_legend\u001b[0m\u001b[0;34m(\u001b[0m\u001b[0;34m)\u001b[0m\u001b[0;34m\u001b[0m\u001b[0;34m\u001b[0m\u001b[0m\n",
      "\u001b[0;32m~/anaconda3/envs/cafeh-sim-env/lib/python3.6/site-packages/seaborn/axisgrid.py\u001b[0m in \u001b[0;36mmap\u001b[0;34m(self, func, *args, **kwargs)\u001b[0m\n\u001b[1;32m    750\u001b[0m \u001b[0;34m\u001b[0m\u001b[0m\n\u001b[1;32m    751\u001b[0m             \u001b[0;31m# Get the actual data we are going to plot with\u001b[0m\u001b[0;34m\u001b[0m\u001b[0;34m\u001b[0m\u001b[0;34m\u001b[0m\u001b[0m\n\u001b[0;32m--> 752\u001b[0;31m             \u001b[0mplot_data\u001b[0m \u001b[0;34m=\u001b[0m \u001b[0mdata_ijk\u001b[0m\u001b[0;34m[\u001b[0m\u001b[0mlist\u001b[0m\u001b[0;34m(\u001b[0m\u001b[0margs\u001b[0m\u001b[0;34m)\u001b[0m\u001b[0;34m]\u001b[0m\u001b[0;34m\u001b[0m\u001b[0;34m\u001b[0m\u001b[0m\n\u001b[0m\u001b[1;32m    753\u001b[0m             \u001b[0;32mif\u001b[0m \u001b[0mself\u001b[0m\u001b[0;34m.\u001b[0m\u001b[0m_dropna\u001b[0m\u001b[0;34m:\u001b[0m\u001b[0;34m\u001b[0m\u001b[0;34m\u001b[0m\u001b[0m\n\u001b[1;32m    754\u001b[0m                 \u001b[0mplot_data\u001b[0m \u001b[0;34m=\u001b[0m \u001b[0mplot_data\u001b[0m\u001b[0;34m.\u001b[0m\u001b[0mdropna\u001b[0m\u001b[0;34m(\u001b[0m\u001b[0;34m)\u001b[0m\u001b[0;34m\u001b[0m\u001b[0;34m\u001b[0m\u001b[0m\n",
      "\u001b[0;32m~/anaconda3/envs/cafeh-sim-env/lib/python3.6/site-packages/pandas/core/frame.py\u001b[0m in \u001b[0;36m__getitem__\u001b[0;34m(self, key)\u001b[0m\n\u001b[1;32m   2804\u001b[0m             \u001b[0;32mif\u001b[0m \u001b[0mis_iterator\u001b[0m\u001b[0;34m(\u001b[0m\u001b[0mkey\u001b[0m\u001b[0;34m)\u001b[0m\u001b[0;34m:\u001b[0m\u001b[0;34m\u001b[0m\u001b[0;34m\u001b[0m\u001b[0m\n\u001b[1;32m   2805\u001b[0m                 \u001b[0mkey\u001b[0m \u001b[0;34m=\u001b[0m \u001b[0mlist\u001b[0m\u001b[0;34m(\u001b[0m\u001b[0mkey\u001b[0m\u001b[0;34m)\u001b[0m\u001b[0;34m\u001b[0m\u001b[0;34m\u001b[0m\u001b[0m\n\u001b[0;32m-> 2806\u001b[0;31m             \u001b[0mindexer\u001b[0m \u001b[0;34m=\u001b[0m \u001b[0mself\u001b[0m\u001b[0;34m.\u001b[0m\u001b[0mloc\u001b[0m\u001b[0;34m.\u001b[0m\u001b[0m_get_listlike_indexer\u001b[0m\u001b[0;34m(\u001b[0m\u001b[0mkey\u001b[0m\u001b[0;34m,\u001b[0m \u001b[0maxis\u001b[0m\u001b[0;34m=\u001b[0m\u001b[0;36m1\u001b[0m\u001b[0;34m,\u001b[0m \u001b[0mraise_missing\u001b[0m\u001b[0;34m=\u001b[0m\u001b[0;32mTrue\u001b[0m\u001b[0;34m)\u001b[0m\u001b[0;34m[\u001b[0m\u001b[0;36m1\u001b[0m\u001b[0;34m]\u001b[0m\u001b[0;34m\u001b[0m\u001b[0;34m\u001b[0m\u001b[0m\n\u001b[0m\u001b[1;32m   2807\u001b[0m \u001b[0;34m\u001b[0m\u001b[0m\n\u001b[1;32m   2808\u001b[0m         \u001b[0;31m# take() does not accept boolean indexers\u001b[0m\u001b[0;34m\u001b[0m\u001b[0;34m\u001b[0m\u001b[0;34m\u001b[0m\u001b[0m\n",
      "\u001b[0;32m~/anaconda3/envs/cafeh-sim-env/lib/python3.6/site-packages/pandas/core/indexing.py\u001b[0m in \u001b[0;36m_get_listlike_indexer\u001b[0;34m(self, key, axis, raise_missing)\u001b[0m\n\u001b[1;32m   1551\u001b[0m \u001b[0;34m\u001b[0m\u001b[0m\n\u001b[1;32m   1552\u001b[0m         self._validate_read_indexer(\n\u001b[0;32m-> 1553\u001b[0;31m             \u001b[0mkeyarr\u001b[0m\u001b[0;34m,\u001b[0m \u001b[0mindexer\u001b[0m\u001b[0;34m,\u001b[0m \u001b[0mo\u001b[0m\u001b[0;34m.\u001b[0m\u001b[0m_get_axis_number\u001b[0m\u001b[0;34m(\u001b[0m\u001b[0maxis\u001b[0m\u001b[0;34m)\u001b[0m\u001b[0;34m,\u001b[0m \u001b[0mraise_missing\u001b[0m\u001b[0;34m=\u001b[0m\u001b[0mraise_missing\u001b[0m\u001b[0;34m\u001b[0m\u001b[0;34m\u001b[0m\u001b[0m\n\u001b[0m\u001b[1;32m   1554\u001b[0m         )\n\u001b[1;32m   1555\u001b[0m         \u001b[0;32mreturn\u001b[0m \u001b[0mkeyarr\u001b[0m\u001b[0;34m,\u001b[0m \u001b[0mindexer\u001b[0m\u001b[0;34m\u001b[0m\u001b[0;34m\u001b[0m\u001b[0m\n",
      "\u001b[0;32m~/anaconda3/envs/cafeh-sim-env/lib/python3.6/site-packages/pandas/core/indexing.py\u001b[0m in \u001b[0;36m_validate_read_indexer\u001b[0;34m(self, key, indexer, axis, raise_missing)\u001b[0m\n\u001b[1;32m   1644\u001b[0m             \u001b[0;32mif\u001b[0m \u001b[0;32mnot\u001b[0m \u001b[0;34m(\u001b[0m\u001b[0mself\u001b[0m\u001b[0;34m.\u001b[0m\u001b[0mname\u001b[0m \u001b[0;34m==\u001b[0m \u001b[0;34m\"loc\"\u001b[0m \u001b[0;32mand\u001b[0m \u001b[0;32mnot\u001b[0m \u001b[0mraise_missing\u001b[0m\u001b[0;34m)\u001b[0m\u001b[0;34m:\u001b[0m\u001b[0;34m\u001b[0m\u001b[0;34m\u001b[0m\u001b[0m\n\u001b[1;32m   1645\u001b[0m                 \u001b[0mnot_found\u001b[0m \u001b[0;34m=\u001b[0m \u001b[0mlist\u001b[0m\u001b[0;34m(\u001b[0m\u001b[0mset\u001b[0m\u001b[0;34m(\u001b[0m\u001b[0mkey\u001b[0m\u001b[0;34m)\u001b[0m \u001b[0;34m-\u001b[0m \u001b[0mset\u001b[0m\u001b[0;34m(\u001b[0m\u001b[0max\u001b[0m\u001b[0;34m)\u001b[0m\u001b[0;34m)\u001b[0m\u001b[0;34m\u001b[0m\u001b[0;34m\u001b[0m\u001b[0m\n\u001b[0;32m-> 1646\u001b[0;31m                 \u001b[0;32mraise\u001b[0m \u001b[0mKeyError\u001b[0m\u001b[0;34m(\u001b[0m\u001b[0;34mf\"{not_found} not in index\"\u001b[0m\u001b[0;34m)\u001b[0m\u001b[0;34m\u001b[0m\u001b[0;34m\u001b[0m\u001b[0m\n\u001b[0m\u001b[1;32m   1647\u001b[0m \u001b[0;34m\u001b[0m\u001b[0m\n\u001b[1;32m   1648\u001b[0m             \u001b[0;31m# we skip the warning on Categorical/Interval\u001b[0m\u001b[0;34m\u001b[0m\u001b[0;34m\u001b[0m\u001b[0;34m\u001b[0m\u001b[0m\n",
      "\u001b[0;31mKeyError\u001b[0m: \"['simulations.n_study'] not in index\""
     ]
    },
    {
     "data": {
      "image/png": "[encoded data removed]",
      "text/plain": [
       "<Figure size 864x216 with 4 Axes>"
      ]
     },
     "metadata": {
      "needs_background": "light"
     },
     "output_type": "display_data"
    }
   ],
   "source": [
    "total_cset_cs_size = make_bootstrap_df(compute_average_cs_size, total_cset, ['model', 'n_causal', 'simulations.pve'])\n",
    "\n",
    "g = sns.FacetGrid(data=total_cset_cs_size, col='simulations.pve')\n",
    "g.map(sns.boxplot, 'simulations.n_study', 'value', 'model')\n",
    "g.add_legend()"
   ]
  },
  {
   "cell_type": "markdown",
   "metadata": {},
   "source": [
    "## study cset analysis\n",
    "\n",
    "Make plots for study level-credible set analysis\n",
    "home field for susie-- we construct study level credible sets for CAFEH\n",
    "that is, assess finemapping on each group of studies"
   ]
  },
  {
   "cell_type": "markdown",
   "metadata": {},
   "source": [
    "### Coverage"
   ]
  },
  {
   "cell_type": "code",
   "execution_count": 66,
   "metadata": {},
   "outputs": [
    {
     "name": "stderr",
     "output_type": "stream",
     "text": [
      "/Users/karltayeb/anaconda3/envs/cafeh-sim-env/lib/python3.6/site-packages/seaborn/axisgrid.py:723: UserWarning: Using the boxplot function without specifying `order` is likely to produce an incorrect plot.\n",
      "  warnings.warn(warning)\n",
      "/Users/karltayeb/anaconda3/envs/cafeh-sim-env/lib/python3.6/site-packages/seaborn/axisgrid.py:728: UserWarning: Using the boxplot function without specifying `hue_order` is likely to produce an incorrect plot.\n",
      "  warnings.warn(warning)\n"
     ]
    },
    {
     "data": {
      "text/plain": [
       "<seaborn.axisgrid.FacetGrid at 0x123d25550>"
      ]
     },
     "execution_count": 66,
     "metadata": {},
     "output_type": "execute_result"
    },
    {
     "data": {
      "image/png": "[encoded data removed]",
      "text/plain": [
       "<Figure size 947x216 with 4 Axes>"
      ]
     },
     "metadata": {
      "needs_background": "light"
     },
     "output_type": "display_data"
    }
   ],
   "source": [
    "study_cset_coverage = make_bootstrap_df(compute_coverage, study_cset, ['model', 'simulations.n_study', 'simulations.pve'])\n",
    "\n",
    "g = sns.FacetGrid(data=study_cset_coverage, col='simulations.pve')\n",
    "g.map(sns.boxplot, 'simulations.n_study', 'value', 'model')\n",
    "g.add_legend()"
   ]
  },
  {
   "cell_type": "markdown",
   "metadata": {},
   "source": [
    "### Power"
   ]
  },
  {
   "cell_type": "code",
   "execution_count": 68,
   "metadata": {},
   "outputs": [
    {
     "name": "stderr",
     "output_type": "stream",
     "text": [
      "/Users/karltayeb/anaconda3/envs/cafeh-sim-env/lib/python3.6/site-packages/seaborn/axisgrid.py:723: UserWarning: Using the boxplot function without specifying `order` is likely to produce an incorrect plot.\n",
      "  warnings.warn(warning)\n",
      "/Users/karltayeb/anaconda3/envs/cafeh-sim-env/lib/python3.6/site-packages/seaborn/axisgrid.py:728: UserWarning: Using the boxplot function without specifying `hue_order` is likely to produce an incorrect plot.\n",
      "  warnings.warn(warning)\n"
     ]
    },
    {
     "data": {
      "text/plain": [
       "<seaborn.axisgrid.FacetGrid at 0x1233e8860>"
      ]
     },
     "execution_count": 68,
     "metadata": {},
     "output_type": "execute_result"
    },
    {
     "data": {
      "image/png": "[encoded data removed]",
      "text/plain": [
       "<Figure size 947x216 with 4 Axes>"
      ]
     },
     "metadata": {
      "needs_background": "light"
     },
     "output_type": "display_data"
    }
   ],
   "source": [
    "study_cset_power = make_bootstrap_df(compute_power, total_cset, ['model', 'simulations.n_study', 'simulations.pve'])\n",
    "\n",
    "g = sns.FacetGrid(data=study_cset_power, col='simulations.pve')\n",
    "g.map(sns.boxplot, 'simulations.n_study', 'value', 'model')\n",
    "g.add_legend()"
   ]
  },
  {
   "cell_type": "markdown",
   "metadata": {},
   "source": [
    "### Credible set size"
   ]
  },
  {
   "cell_type": "code",
   "execution_count": 69,
   "metadata": {},
   "outputs": [
    {
     "name": "stderr",
     "output_type": "stream",
     "text": [
      "/Users/karltayeb/anaconda3/envs/cafeh-sim-env/lib/python3.6/site-packages/seaborn/axisgrid.py:723: UserWarning: Using the boxplot function without specifying `order` is likely to produce an incorrect plot.\n",
      "  warnings.warn(warning)\n",
      "/Users/karltayeb/anaconda3/envs/cafeh-sim-env/lib/python3.6/site-packages/seaborn/axisgrid.py:728: UserWarning: Using the boxplot function without specifying `hue_order` is likely to produce an incorrect plot.\n",
      "  warnings.warn(warning)\n"
     ]
    },
    {
     "data": {
      "text/plain": [
       "<seaborn.axisgrid.FacetGrid at 0x124978860>"
      ]
     },
     "execution_count": 69,
     "metadata": {},
     "output_type": "execute_result"
    },
    {
     "data": {
      "image/png": "[encoded data removed]",
      "text/plain": [
       "<Figure size 947x216 with 4 Axes>"
      ]
     },
     "metadata": {
      "needs_background": "light"
     },
     "output_type": "display_data"
    }
   ],
   "source": [
    "study_cset_cs_size = make_bootstrap_df(compute_average_cs_size, study_cset, ['model', 'simulations.n_study', 'simulations.pve'])\n",
    "\n",
    "g = sns.FacetGrid(data=study_cset_cs_size, col='simulations.pve')\n",
    "g.map(sns.boxplot, 'simulations.n_study', 'value', 'model')\n",
    "g.add_legend()"
   ]
  },
  {
   "cell_type": "code",
   "execution_count": null,
   "metadata": {},
   "outputs": [],
   "source": []
  },
  {
   "cell_type": "code",
   "execution_count": null,
   "metadata": {},
   "outputs": [],
   "source": []
  },
  {
   "cell_type": "code",
   "execution_count": null,
   "metadata": {},
   "outputs": [],
   "source": []
  },
  {
   "cell_type": "code",
   "execution_count": 196,
   "metadata": {},
   "outputs": [
    {
     "data": {
      "text/plain": [
       "{'n_components': 2,\n",
       " 'n_components_with_causal': 2,\n",
       " 'n_causal_in_cs': 2,\n",
       " 'n_top_causal': 2,\n",
       " 'n_causal': 2,\n",
       " 'n_credible_snps': 3,\n",
       " 'model': None,\n",
       " 'simulations.pve': 0.05,\n",
       " 'simulations.n_study': 2,\n",
       " 'simulations.n_causal_per_study': 1}"
      ]
     },
     "execution_count": 196,
     "metadata": {},
     "output_type": "execute_result"
    }
   ],
   "source": [
    "score_total_cset(id_vars=id_vars, **query.iloc[0].to_dict())"
   ]
  },
  {
   "cell_type": "code",
   "execution_count": 177,
   "metadata": {},
   "outputs": [
    {
     "data": {
      "text/plain": [
       "{'n_components': 3,\n",
       " 'n_components_with_causal': 3,\n",
       " 'n_causal_in_cs': 3,\n",
       " 'n_top_causal': 1,\n",
       " 'n_causal': 3,\n",
       " 'n_credible_snps': 5}"
      ]
     },
     "execution_count": 177,
     "metadata": {},
     "output_type": "execute_result"
    }
   ],
   "source": [
    "score_total_cset(**query.iloc[-1].to_dict())"
   ]
  },
  {
   "cell_type": "code",
   "execution_count": 174,
   "metadata": {},
   "outputs": [
    {
     "data": {
      "text/plain": [
       "[{'n_components': 1,\n",
       "  'n_components_with_causal': 1,\n",
       "  'n_causal_in_cs': 1,\n",
       "  'n_top_causal': 1,\n",
       "  'n_causal': 1,\n",
       "  'n_credible_snps': 2},\n",
       " {'n_components': 1,\n",
       "  'n_components_with_causal': 1,\n",
       "  'n_causal_in_cs': 1,\n",
       "  'n_top_causal': 1,\n",
       "  'n_causal': 1,\n",
       "  'n_credible_snps': 1}]"
      ]
     },
     "execution_count": 174,
     "metadata": {},
     "output_type": "execute_result"
    }
   ],
   "source": [
    "_score_study_cset_susie(**query.iloc[0].to_dict())"
   ]
  },
  {
   "cell_type": "code",
   "execution_count": 166,
   "metadata": {},
   "outputs": [
    {
     "data": {
      "text/plain": [
       "{'n_components': 2,\n",
       " 'n_components_with_causal': 2,\n",
       " 'n_causal_in_cs': 2,\n",
       " 'n_top_causal': 2,\n",
       " 'n_causal': 2}"
      ]
     },
     "execution_count": 166,
     "metadata": {},
     "output_type": "execute_result"
    }
   ],
   "source": [
    "_score_total_cset_susie(**query.iloc[0].to_dict())"
   ]
  },
  {
   "cell_type": "code",
   "execution_count": 139,
   "metadata": {},
   "outputs": [
    {
     "data": {
      "text/plain": [
       "{'n_components': 2,\n",
       " 'n_components_with_causal': 2,\n",
       " 'n_causal_in_cs': 2,\n",
       " 'n_top_causal': 2,\n",
       " 'n_causal': 2}"
      ]
     },
     "execution_count": 139,
     "metadata": {},
     "output_type": "execute_result"
    }
   ],
   "source": [
    "score_total_cset_susie(**query.iloc[0].to_dict())"
   ]
  },
  {
   "cell_type": "code",
   "execution_count": 140,
   "metadata": {},
   "outputs": [
    {
     "data": {
      "text/plain": [
       "{'n_components': 3,\n",
       " 'n_components_with_causal': 3,\n",
       " 'n_causal_in_cs': 3,\n",
       " 'n_top_causal': 1,\n",
       " 'n_causal': 3}"
      ]
     },
     "execution_count": 140,
     "metadata": {},
     "output_type": "execute_result"
    }
   ],
   "source": [
    "score_total_cset_cafeh(**query.iloc[-1].to_dict())"
   ]
  },
  {
   "cell_type": "code",
   "execution_count": 141,
   "metadata": {},
   "outputs": [
    {
     "data": {
      "text/plain": [
       "{'n_components': 3,\n",
       " 'n_components_with_causal': 3,\n",
       " 'n_causal_in_cs': 3,\n",
       " 'n_top_causal': 1,\n",
       " 'n_causal': 3}"
      ]
     },
     "execution_count": 141,
     "metadata": {},
     "output_type": "execute_result"
    }
   ],
   "source": [
    "score_total_cset_cafeh(**query.iloc[-1].to_dict())"
   ]
  },
  {
   "cell_type": "code",
   "execution_count": 123,
   "metadata": {},
   "outputs": [
    {
     "data": {
      "text/plain": [
       "[{'n_components': 2,\n",
       "  'n_components_with_causal': 2,\n",
       "  'n_causal_in_cs': 2,\n",
       "  'n_top_causal': 1,\n",
       "  'n_causal': 3},\n",
       " {'n_components': 2,\n",
       "  'n_components_with_causal': 2,\n",
       "  'n_causal_in_cs': 2,\n",
       "  'n_top_causal': 1,\n",
       "  'n_causal': 3},\n",
       " {'n_components': 3,\n",
       "  'n_components_with_causal': 3,\n",
       "  'n_causal_in_cs': 3,\n",
       "  'n_top_causal': 1,\n",
       "  'n_causal': 3},\n",
       " {'n_components': 3,\n",
       "  'n_components_with_causal': 3,\n",
       "  'n_causal_in_cs': 3,\n",
       "  'n_top_causal': 1,\n",
       "  'n_causal': 3},\n",
       " {'n_components': 2,\n",
       "  'n_components_with_causal': 2,\n",
       "  'n_causal_in_cs': 2,\n",
       "  'n_top_causal': 1,\n",
       "  'n_causal': 3},\n",
       " {'n_components': 1,\n",
       "  'n_components_with_causal': 1,\n",
       "  'n_causal_in_cs': 1,\n",
       "  'n_top_causal': 1,\n",
       "  'n_causal': 3},\n",
       " {'n_components': 3,\n",
       "  'n_components_with_causal': 3,\n",
       "  'n_causal_in_cs': 3,\n",
       "  'n_top_causal': 1,\n",
       "  'n_causal': 3},\n",
       " {'n_components': 2,\n",
       "  'n_components_with_causal': 2,\n",
       "  'n_causal_in_cs': 2,\n",
       "  'n_top_causal': 1,\n",
       "  'n_causal': 3},\n",
       " {'n_components': 3,\n",
       "  'n_components_with_causal': 3,\n",
       "  'n_causal_in_cs': 3,\n",
       "  'n_top_causal': 1,\n",
       "  'n_causal': 3},\n",
       " {'n_components': 3,\n",
       "  'n_components_with_causal': 3,\n",
       "  'n_causal_in_cs': 3,\n",
       "  'n_top_causal': 1,\n",
       "  'n_causal': 3}]"
      ]
     },
     "execution_count": 123,
     "metadata": {},
     "output_type": "execute_result"
    }
   ],
   "source": [
    "score_study_cset_cafeh(**query.iloc[-1].to_dict())"
   ]
  },
  {
   "cell_type": "code",
   "execution_count": 31,
   "metadata": {},
   "outputs": [],
   "source": [
    "def score_cset_cafeh(credible_sets, purity, true_effects):\n",
    "    \"\"\"\n",
    "    score cset for each study seperately\n",
    "    \"\"\"\n",
    "\n",
    "    # get the causal snps\n",
    "    causal_snps = np.where(np.any(true_effects != 0, 0))[0]\n",
    "\n",
    "    # how many of these components are pure?\n",
    "    pure = np.array([purity[k] > 0.5 for k in range(len(purity))])\n",
    "\n",
    "    # how many component contain a causal snp\n",
    "    cs_contains_causal = np.array([np.any(np.isin(credible_sets[k], causal_snps))\n",
    "                                   for k in range(len(credible_sets))])\n",
    "    try:\n",
    "        all_credible_snps = np.unique(np.concatenate(\n",
    "            [credible_sets[k] for k in range(len(credible_sets)) if pure[k]]))\n",
    "    except ValueError:\n",
    "        all_credible_snps = np.array([])\n",
    "\n",
    "    # how many causal snps are captured in a pure component\n",
    "    causal_in_credible_set = np.isin(causal_snps, all_credible_snps)\n",
    "\n",
    "    # how many causal snps are the first snp in a component\n",
    "    top_credible_snps = np.unique([credible_sets[k][0] for k in range(len(credible_sets)) if pure[k]])\n",
    "    top_causal = np.isin(causal_snps, top_credible_snps)\n",
    "\n",
    "    return {\n",
    "        'n_components': pure.sum(),\n",
    "        'n_components_with_causal': (cs_contains_causal & pure).sum(),\n",
    "        'n_causal_in_cs': causal_in_credible_set.sum(),\n",
    "        'n_top_causal': top_causal.sum(),\n",
    "        'n_causal': causal_snps.size\n",
    "    }"
   ]
  },
  {
   "cell_type": "code",
   "execution_count": null,
   "metadata": {},
   "outputs": [],
   "source": [
    "def score_cset_susie(credible_sets, purity, true_effects):\n",
    "    \"\"\"\n",
    "    compute finemapping scores\n",
    "    \"\"\"\n",
    "\n",
    "    # get the causal snps\n",
    "    causal_snps = np.where(np.any(true_effects != 0, 0))[0]\n",
    "\n",
    "    # how many of these components are pure?\n",
    "    pure = np.array([purity[k] > 0.5 for k in range(len(purity))])\n",
    "\n",
    "    # how many component contain a causal snp\n",
    "    cs_contains_causal = np.array([np.any(np.isin(credible_sets[k], causal_snps))\n",
    "                                   for k in range(len(credible_sets))])\n",
    "    try:\n",
    "        all_credible_snps = np.unique(np.concatenate(\n",
    "            [credible_sets[k] for k in range(len(credible_sets)) if pure[k]]))\n",
    "    except ValueError:\n",
    "        all_credible_snps = np.array([])\n",
    "\n",
    "    # how many causal snps are captured in a pure component\n",
    "    causal_in_credible_set = np.isin(causal_snps, all_credible_snps)\n",
    "\n",
    "    # how many causal snps are the first snp in a component\n",
    "    top_credible_snps = np.unique([credible_sets[k][0] for k in range(len(credible_sets)) if pure[k]])\n",
    "    top_causal = np.isin(causal_snps, top_credible_snps)\n",
    "\n",
    "    return {\n",
    "        'n_components': pure.sum(),\n",
    "        'n_components_with_causal': (cs_contains_causal & pure).sum(),\n",
    "        'n_causal_in_cs': causal_in_credible_set.sum(),\n",
    "        'n_top_causal': top_causal.sum(),\n",
    "        'n_causal': causal_snps.size\n",
    "    }"
   ]
  },
  {
   "cell_type": "code",
   "execution_count": 19,
   "metadata": {},
   "outputs": [],
   "source": [
    "xls = pd.ExcelFile(query_file)\n",
    "info = [xls.parse(x) for x in xls.sheet_names]\n",
    "spec = pd.read_excel(xls, 'Sheet1')\n",
    "query = load_query_targets(spec)\n",
    "\n",
    "# put model names into one column for easier filtering\n",
    "\n",
    "model_columns = ['fit_cafeh', 'fit_susie']\n",
    "query.loc[:, 'model'] = pd.concat(\n",
    "    [query.loc[:, mc].dropna().apply(lambda x: '_'.join(x.split('_')[1:])) for mc in model_columns])"
   ]
  },
  {
   "cell_type": "code",
   "execution_count": 28,
   "metadata": {},
   "outputs": [],
   "source": [
    "def true_effects2causal(true_effects):\n",
    "    return np.arange(true_effects.shape[1])[np.any((true_effects != 0), 0)]"
   ]
  },
  {
   "cell_type": "code",
   "execution_count": 30,
   "metadata": {},
   "outputs": [],
   "source": [
    "query.loc[:, 'causal_snps'] = query.true_effects.apply(true_effects2causal)"
   ]
  },
  {
   "cell_type": "code",
   "execution_count": 25,
   "metadata": {},
   "outputs": [],
   "source": [
    "causal_snps = np.arange(1000)[np.any((query.iloc[0].true_effects != 0), 0)]"
   ]
  },
  {
   "cell_type": "code",
   "execution_count": null,
   "metadata": {},
   "outputs": [],
   "source": [
    "!rm study_pip.xlsx\n",
    "!dsc-query {DSC_PATH} -t score_finemapping_caviar.study_pip fit_cafeh.study_pip fit_susie.study_pip simulations.true_effects simulations.pve simulations.n_study simulations.n_causal_per_study -o study_pip.xlsx"
   ]
  }
 ],
 "metadata": {
  "kernelspec": {
   "display_name": "Python 3",
   "language": "python",
   "name": "python3"
  },
  "language_info": {
   "codemirror_mode": {
    "name": "ipython",
    "version": 3
   },
   "file_extension": ".py",
   "mimetype": "text/x-python",
   "name": "python",
   "nbconvert_exporter": "python",
   "pygments_lexer": "ipython3",
   "version": "3.6.10"
  }
 },
 "nbformat": 4,
 "nbformat_minor": 4
}
